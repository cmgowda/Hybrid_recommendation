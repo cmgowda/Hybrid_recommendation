{
  "metadata": {
    "kernelspec": {
      "language": "python",
      "display_name": "Python 3",
      "name": "python3"
    },
    "language_info": {
      "name": "python",
      "version": "3.7.12",
      "mimetype": "text/x-python",
      "codemirror_mode": {
        "name": "ipython",
        "version": 3
      },
      "pygments_lexer": "ipython3",
      "nbconvert_exporter": "python",
      "file_extension": ".py"
    },
    "colab": {
      "provenance": []
    },
    "accelerator": "GPU",
    "gpuClass": "standard"
  },
  "nbformat_minor": 0,
  "nbformat": 4,
  "cells": [
    {
      "cell_type": "markdown",
      "source": [
        "##**x21145377_baby_recommendation_system_amazon__data_set_1_initial_Case_study_A**"
      ],
      "metadata": {
        "id": "KHliQ9_bOfss"
      }
    },
    {
      "cell_type": "markdown",
      "source": [
        "## Dependencies"
      ],
      "metadata": {
        "id": "Xcgv9LNEIrTD"
      }
    },
    {
      "cell_type": "markdown",
      "source": [],
      "metadata": {
        "id": "7FNthStyOtQw"
      }
    },
    {
      "cell_type": "markdown",
      "source": [],
      "metadata": {
        "id": "2Kqmw9_rOceT"
      }
    },
    {
      "cell_type": "code",
      "source": [
        "#import libraries\n",
        "import json\n",
        "import numpy as np\n",
        "from collections import defaultdict\n",
        "import warnings\n",
        "import gensim\n",
        "import pandas as pd\n",
        "from gensim.models.doc2vec import Doc2Vec\n",
        "import numpy as np\n",
        "import keras\n",
        "import math\n",
        "import gzip\n",
        "from keras import backend as K\n",
        "from keras.models import Model\n",
        "from keras.layers import Embedding, Input, Dense, Flatten, Concatenate, Multiply, Lambda, Reshape\n",
        "from keras.layers.core import Dropout\n",
        "import scipy.sparse as sp\n",
        "import matplotlib.pyplot as plt\n",
        "from sklearn.metrics import mean_squared_error, mean_absolute_error\n",
        "from tensorflow.keras.callbacks import EarlyStopping , ModelCheckpoint\n",
        "import math as mt"
      ],
      "metadata": {
        "execution": {
          "iopub.status.busy": "2022-10-23T14:39:42.039020Z",
          "iopub.execute_input": "2022-10-23T14:39:42.039385Z",
          "iopub.status.idle": "2022-10-23T14:39:42.047325Z",
          "shell.execute_reply.started": "2022-10-23T14:39:42.039351Z",
          "shell.execute_reply": "2022-10-23T14:39:42.046265Z"
        },
        "trusted": true,
        "id": "S6Fduto0IrTH"
      },
      "execution_count": null,
      "outputs": []
    },
    {
      "cell_type": "markdown",
      "source": [
        "## Display the dataset"
      ],
      "metadata": {
        "id": "vxj1Vx64IrTI"
      }
    },
    {
      "cell_type": "code",
      "source": [
        "## Convert data from gz to DataFrame\n",
        "def parse(path):\n",
        "    g = gzip.open(path, 'rb')\n",
        "    for l in g:\n",
        "        yield eval(l)\n",
        "\n",
        "def getDF(path):\n",
        "    i = 0\n",
        "    df = {}\n",
        "    for d in parse(path):\n",
        "        df[i] = d\n",
        "        i += 1\n",
        "    return pd.DataFrame.from_dict(df, orient='index')\n"
      ],
      "metadata": {
        "execution": {
          "iopub.status.busy": "2022-10-23T14:26:54.210105Z",
          "iopub.execute_input": "2022-10-23T14:26:54.210771Z",
          "iopub.status.idle": "2022-10-23T14:26:54.216474Z",
          "shell.execute_reply.started": "2022-10-23T14:26:54.210733Z",
          "shell.execute_reply": "2022-10-23T14:26:54.215496Z"
        },
        "trusted": true,
        "id": "PIerif5GIrTJ"
      },
      "execution_count": null,
      "outputs": []
    },
    {
      "cell_type": "markdown",
      "source": [
        "## Download The Review and Meta Data"
      ],
      "metadata": {
        "id": "sIv0va3FIrTJ"
      }
    },
    {
      "cell_type": "code",
      "source": [
        "# Download Review Data\n",
        "!wget http://snap.stanford.edu/data/amazon/productGraph/categoryFiles/reviews_Baby.json.gz"
      ],
      "metadata": {
        "execution": {
          "iopub.status.busy": "2022-10-23T14:26:54.218035Z",
          "iopub.execute_input": "2022-10-23T14:26:54.218990Z",
          "iopub.status.idle": "2022-10-23T14:27:51.753248Z",
          "shell.execute_reply.started": "2022-10-23T14:26:54.218932Z",
          "shell.execute_reply": "2022-10-23T14:27:51.752099Z"
        },
        "trusted": true,
        "colab": {
          "base_uri": "https://localhost:8080/"
        },
        "id": "84G0o2CbIrTJ",
        "outputId": "61a267b5-a593-44f7-b8ac-7c38180d626b"
      },
      "execution_count": null,
      "outputs": [
        {
          "output_type": "stream",
          "name": "stdout",
          "text": [
            "--2022-12-14 14:04:25--  http://snap.stanford.edu/data/amazon/productGraph/categoryFiles/reviews_Baby.json.gz\n",
            "Resolving snap.stanford.edu (snap.stanford.edu)... 171.64.75.80\n",
            "Connecting to snap.stanford.edu (snap.stanford.edu)|171.64.75.80|:80... connected.\n",
            "HTTP request sent, awaiting response... 200 OK\n",
            "Length: 191601185 (183M) [application/x-gzip]\n",
            "Saving to: ‘reviews_Baby.json.gz’\n",
            "\n",
            "reviews_Baby.json.g 100%[===================>] 182.72M  4.34MB/s    in 34s     \n",
            "\n",
            "2022-12-14 14:04:59 (5.45 MB/s) - ‘reviews_Baby.json.gz’ saved [191601185/191601185]\n",
            "\n"
          ]
        }
      ]
    },
    {
      "cell_type": "code",
      "source": [
        "# Download Meta Data\n",
        "!wget http://snap.stanford.edu/data/amazon/productGraph/categoryFiles/meta_Baby.json.gz"
      ],
      "metadata": {
        "execution": {
          "iopub.status.busy": "2022-10-23T14:27:51.756667Z",
          "iopub.execute_input": "2022-10-23T14:27:51.757028Z",
          "iopub.status.idle": "2022-10-23T14:28:04.553006Z",
          "shell.execute_reply.started": "2022-10-23T14:27:51.756989Z",
          "shell.execute_reply": "2022-10-23T14:28:04.551890Z"
        },
        "trusted": true,
        "colab": {
          "base_uri": "https://localhost:8080/"
        },
        "id": "Bu_PG88wIrTL",
        "outputId": "73574426-d02f-436f-958f-fafe47b8f024"
      },
      "execution_count": null,
      "outputs": [
        {
          "output_type": "stream",
          "name": "stdout",
          "text": [
            "--2022-12-14 14:05:00--  http://snap.stanford.edu/data/amazon/productGraph/categoryFiles/meta_Baby.json.gz\n",
            "Resolving snap.stanford.edu (snap.stanford.edu)... 171.64.75.80\n",
            "Connecting to snap.stanford.edu (snap.stanford.edu)|171.64.75.80|:80... connected.\n",
            "HTTP request sent, awaiting response... 200 OK\n",
            "Length: 31328004 (30M) [application/x-gzip]\n",
            "Saving to: ‘meta_Baby.json.gz’\n",
            "\n",
            "meta_Baby.json.gz   100%[===================>]  29.88M  3.31MB/s    in 11s     \n",
            "\n",
            "2022-12-14 14:05:11 (2.72 MB/s) - ‘meta_Baby.json.gz’ saved [31328004/31328004]\n",
            "\n"
          ]
        }
      ]
    },
    {
      "cell_type": "code",
      "source": [
        "#display the meta data as  dataframe\n",
        "metadata = getDF('./meta_Baby.json.gz')\n",
        "metadata.head()"
      ],
      "metadata": {
        "execution": {
          "iopub.status.busy": "2022-10-23T14:28:04.555222Z",
          "iopub.execute_input": "2022-10-23T14:28:04.555637Z",
          "iopub.status.idle": "2022-10-23T14:28:14.766670Z",
          "shell.execute_reply.started": "2022-10-23T14:28:04.555593Z",
          "shell.execute_reply": "2022-10-23T14:28:14.765703Z"
        },
        "trusted": true,
        "colab": {
          "base_uri": "https://localhost:8080/",
          "height": 424
        },
        "id": "SBYqTAxRIrTL",
        "outputId": "928495c3-82e7-41d9-e11d-a2e93b973b7e"
      },
      "execution_count": null,
      "outputs": [
        {
          "output_type": "execute_result",
          "data": {
            "text/plain": [
              "         asin categories                                        description  \\\n",
              "0  0188399313   [[Baby]]  Wee-Go Glass baby bottles by LifeFactory (Baby...   \n",
              "1  0188399518   [[Baby]]  The Planet Wise Flannel Wipes are 10 super sof...   \n",
              "2  0188399399   [[Baby]]  The Planet Wise Wipe PouchTM features our pate...   \n",
              "3  0316967297   [[Baby]]  Hand crafted set includes 1 full quilt (76x86 ...   \n",
              "4  0615447279   [[Baby]]  Thumbuddy To Love- The Binky Fairy helps child...   \n",
              "\n",
              "                                               title   price  \\\n",
              "0  Lifefactory 4oz BPA Free Glass Baby Bottles - ...   69.99   \n",
              "1                           Planetwise Flannel Wipes   15.95   \n",
              "2                              Planetwise Wipe Pouch   10.95   \n",
              "3                Annas Dream Full Quilt with 2 Shams  109.95   \n",
              "4  Stop Pacifier Sucking without tears with Thumb...   16.95   \n",
              "\n",
              "                                               imUrl        brand  \\\n",
              "0  http://ecx.images-amazon.com/images/I/41Swthpd...  Lifefactory   \n",
              "1  http://ecx.images-amazon.com/images/I/41otjnA4...  Planet Wise   \n",
              "2  http://ecx.images-amazon.com/images/I/61x8h9u6...          NaN   \n",
              "3  http://ecx.images-amazon.com/images/I/51%2BZ1%...          NaN   \n",
              "4  http://ecx.images-amazon.com/images/I/51RKKENl...                \n",
              "\n",
              "                                             related salesRank  \n",
              "0  {'also_bought': ['B002SG7K7A', 'B003CJSXW8', '...       NaN  \n",
              "1  {'also_bought': ['B00G96N3YY', 'B003XSEV2O', '...       NaN  \n",
              "2  {'also_bought': ['B005WWI0DA', 'B005WWIMGA', '...       NaN  \n",
              "3  {'also_viewed': ['B009LTER3W', 'B00575TI5Q', '...       NaN  \n",
              "4  {'also_bought': ['0979670004', '1601310234', '...       NaN  "
            ],
            "text/html": [
              "\n",
              "  <div id=\"df-1d132b7d-4609-4518-a85e-37ecc183ba47\">\n",
              "    <div class=\"colab-df-container\">\n",
              "      <div>\n",
              "<style scoped>\n",
              "    .dataframe tbody tr th:only-of-type {\n",
              "        vertical-align: middle;\n",
              "    }\n",
              "\n",
              "    .dataframe tbody tr th {\n",
              "        vertical-align: top;\n",
              "    }\n",
              "\n",
              "    .dataframe thead th {\n",
              "        text-align: right;\n",
              "    }\n",
              "</style>\n",
              "<table border=\"1\" class=\"dataframe\">\n",
              "  <thead>\n",
              "    <tr style=\"text-align: right;\">\n",
              "      <th></th>\n",
              "      <th>asin</th>\n",
              "      <th>categories</th>\n",
              "      <th>description</th>\n",
              "      <th>title</th>\n",
              "      <th>price</th>\n",
              "      <th>imUrl</th>\n",
              "      <th>brand</th>\n",
              "      <th>related</th>\n",
              "      <th>salesRank</th>\n",
              "    </tr>\n",
              "  </thead>\n",
              "  <tbody>\n",
              "    <tr>\n",
              "      <th>0</th>\n",
              "      <td>0188399313</td>\n",
              "      <td>[[Baby]]</td>\n",
              "      <td>Wee-Go Glass baby bottles by LifeFactory (Baby...</td>\n",
              "      <td>Lifefactory 4oz BPA Free Glass Baby Bottles - ...</td>\n",
              "      <td>69.99</td>\n",
              "      <td>http://ecx.images-amazon.com/images/I/41Swthpd...</td>\n",
              "      <td>Lifefactory</td>\n",
              "      <td>{'also_bought': ['B002SG7K7A', 'B003CJSXW8', '...</td>\n",
              "      <td>NaN</td>\n",
              "    </tr>\n",
              "    <tr>\n",
              "      <th>1</th>\n",
              "      <td>0188399518</td>\n",
              "      <td>[[Baby]]</td>\n",
              "      <td>The Planet Wise Flannel Wipes are 10 super sof...</td>\n",
              "      <td>Planetwise Flannel Wipes</td>\n",
              "      <td>15.95</td>\n",
              "      <td>http://ecx.images-amazon.com/images/I/41otjnA4...</td>\n",
              "      <td>Planet Wise</td>\n",
              "      <td>{'also_bought': ['B00G96N3YY', 'B003XSEV2O', '...</td>\n",
              "      <td>NaN</td>\n",
              "    </tr>\n",
              "    <tr>\n",
              "      <th>2</th>\n",
              "      <td>0188399399</td>\n",
              "      <td>[[Baby]]</td>\n",
              "      <td>The Planet Wise Wipe PouchTM features our pate...</td>\n",
              "      <td>Planetwise Wipe Pouch</td>\n",
              "      <td>10.95</td>\n",
              "      <td>http://ecx.images-amazon.com/images/I/61x8h9u6...</td>\n",
              "      <td>NaN</td>\n",
              "      <td>{'also_bought': ['B005WWI0DA', 'B005WWIMGA', '...</td>\n",
              "      <td>NaN</td>\n",
              "    </tr>\n",
              "    <tr>\n",
              "      <th>3</th>\n",
              "      <td>0316967297</td>\n",
              "      <td>[[Baby]]</td>\n",
              "      <td>Hand crafted set includes 1 full quilt (76x86 ...</td>\n",
              "      <td>Annas Dream Full Quilt with 2 Shams</td>\n",
              "      <td>109.95</td>\n",
              "      <td>http://ecx.images-amazon.com/images/I/51%2BZ1%...</td>\n",
              "      <td>NaN</td>\n",
              "      <td>{'also_viewed': ['B009LTER3W', 'B00575TI5Q', '...</td>\n",
              "      <td>NaN</td>\n",
              "    </tr>\n",
              "    <tr>\n",
              "      <th>4</th>\n",
              "      <td>0615447279</td>\n",
              "      <td>[[Baby]]</td>\n",
              "      <td>Thumbuddy To Love- The Binky Fairy helps child...</td>\n",
              "      <td>Stop Pacifier Sucking without tears with Thumb...</td>\n",
              "      <td>16.95</td>\n",
              "      <td>http://ecx.images-amazon.com/images/I/51RKKENl...</td>\n",
              "      <td></td>\n",
              "      <td>{'also_bought': ['0979670004', '1601310234', '...</td>\n",
              "      <td>NaN</td>\n",
              "    </tr>\n",
              "  </tbody>\n",
              "</table>\n",
              "</div>\n",
              "      <button class=\"colab-df-convert\" onclick=\"convertToInteractive('df-1d132b7d-4609-4518-a85e-37ecc183ba47')\"\n",
              "              title=\"Convert this dataframe to an interactive table.\"\n",
              "              style=\"display:none;\">\n",
              "        \n",
              "  <svg xmlns=\"http://www.w3.org/2000/svg\" height=\"24px\"viewBox=\"0 0 24 24\"\n",
              "       width=\"24px\">\n",
              "    <path d=\"M0 0h24v24H0V0z\" fill=\"none\"/>\n",
              "    <path d=\"M18.56 5.44l.94 2.06.94-2.06 2.06-.94-2.06-.94-.94-2.06-.94 2.06-2.06.94zm-11 1L8.5 8.5l.94-2.06 2.06-.94-2.06-.94L8.5 2.5l-.94 2.06-2.06.94zm10 10l.94 2.06.94-2.06 2.06-.94-2.06-.94-.94-2.06-.94 2.06-2.06.94z\"/><path d=\"M17.41 7.96l-1.37-1.37c-.4-.4-.92-.59-1.43-.59-.52 0-1.04.2-1.43.59L10.3 9.45l-7.72 7.72c-.78.78-.78 2.05 0 2.83L4 21.41c.39.39.9.59 1.41.59.51 0 1.02-.2 1.41-.59l7.78-7.78 2.81-2.81c.8-.78.8-2.07 0-2.86zM5.41 20L4 18.59l7.72-7.72 1.47 1.35L5.41 20z\"/>\n",
              "  </svg>\n",
              "      </button>\n",
              "      \n",
              "  <style>\n",
              "    .colab-df-container {\n",
              "      display:flex;\n",
              "      flex-wrap:wrap;\n",
              "      gap: 12px;\n",
              "    }\n",
              "\n",
              "    .colab-df-convert {\n",
              "      background-color: #E8F0FE;\n",
              "      border: none;\n",
              "      border-radius: 50%;\n",
              "      cursor: pointer;\n",
              "      display: none;\n",
              "      fill: #1967D2;\n",
              "      height: 32px;\n",
              "      padding: 0 0 0 0;\n",
              "      width: 32px;\n",
              "    }\n",
              "\n",
              "    .colab-df-convert:hover {\n",
              "      background-color: #E2EBFA;\n",
              "      box-shadow: 0px 1px 2px rgba(60, 64, 67, 0.3), 0px 1px 3px 1px rgba(60, 64, 67, 0.15);\n",
              "      fill: #174EA6;\n",
              "    }\n",
              "\n",
              "    [theme=dark] .colab-df-convert {\n",
              "      background-color: #3B4455;\n",
              "      fill: #D2E3FC;\n",
              "    }\n",
              "\n",
              "    [theme=dark] .colab-df-convert:hover {\n",
              "      background-color: #434B5C;\n",
              "      box-shadow: 0px 1px 3px 1px rgba(0, 0, 0, 0.15);\n",
              "      filter: drop-shadow(0px 1px 2px rgba(0, 0, 0, 0.3));\n",
              "      fill: #FFFFFF;\n",
              "    }\n",
              "  </style>\n",
              "\n",
              "      <script>\n",
              "        const buttonEl =\n",
              "          document.querySelector('#df-1d132b7d-4609-4518-a85e-37ecc183ba47 button.colab-df-convert');\n",
              "        buttonEl.style.display =\n",
              "          google.colab.kernel.accessAllowed ? 'block' : 'none';\n",
              "\n",
              "        async function convertToInteractive(key) {\n",
              "          const element = document.querySelector('#df-1d132b7d-4609-4518-a85e-37ecc183ba47');\n",
              "          const dataTable =\n",
              "            await google.colab.kernel.invokeFunction('convertToInteractive',\n",
              "                                                     [key], {});\n",
              "          if (!dataTable) return;\n",
              "\n",
              "          const docLinkHtml = 'Like what you see? Visit the ' +\n",
              "            '<a target=\"_blank\" href=https://colab.research.google.com/notebooks/data_table.ipynb>data table notebook</a>'\n",
              "            + ' to learn more about interactive tables.';\n",
              "          element.innerHTML = '';\n",
              "          dataTable['output_type'] = 'display_data';\n",
              "          await google.colab.output.renderOutput(dataTable, element);\n",
              "          const docLink = document.createElement('div');\n",
              "          docLink.innerHTML = docLinkHtml;\n",
              "          element.appendChild(docLink);\n",
              "        }\n",
              "      </script>\n",
              "    </div>\n",
              "  </div>\n",
              "  "
            ]
          },
          "metadata": {},
          "execution_count": 6
        }
      ]
    },
    {
      "cell_type": "code",
      "source": [],
      "metadata": {
        "id": "0RLKzVNxThBC"
      },
      "execution_count": null,
      "outputs": []
    },
    {
      "cell_type": "code",
      "source": [
        "#display the review data as  dataframe\n",
        "reviews = getDF('./reviews_Baby.json.gz')\n",
        "reviews.head()"
      ],
      "metadata": {
        "execution": {
          "iopub.status.busy": "2022-10-23T14:28:14.768017Z",
          "iopub.execute_input": "2022-10-23T14:28:14.768666Z",
          "iopub.status.idle": "2022-10-23T14:28:59.873935Z",
          "shell.execute_reply.started": "2022-10-23T14:28:14.768627Z",
          "shell.execute_reply": "2022-10-23T14:28:59.872618Z"
        },
        "trusted": true,
        "colab": {
          "base_uri": "https://localhost:8080/",
          "height": 337
        },
        "id": "znnMR1SDIrTL",
        "outputId": "c21f1f0e-4416-4366-f115-baa948ae3375"
      },
      "execution_count": null,
      "outputs": [
        {
          "output_type": "execute_result",
          "data": {
            "text/plain": [
              "       reviewerID        asin     reviewerName helpful  \\\n",
              "0  A28O3NP6WR5517  0188399313   Jennifer gymer  [0, 0]   \n",
              "1   AX0M1Z6ZWO52J  0188399399           Ash M.  [1, 1]   \n",
              "2  A1KD7N84L7NIUT  0188399518        Buffy Fan  [0, 0]   \n",
              "3  A29CUDEIF4X1UO  0188399518    J. D. Solbach  [1, 1]   \n",
              "4  A32592TYN6C9EM  0316967297  Amazon Customer  [0, 0]   \n",
              "\n",
              "                                          reviewText  overall  \\\n",
              "0  They work very well. Easy to clean, we wash th...      5.0   \n",
              "1  it came early and was not disappointed. i love...      5.0   \n",
              "2  I ended up with a variety of different brands ...      4.0   \n",
              "3  These flannel wipes are OK, but in my opinion ...      3.0   \n",
              "4  Cute quilt, the colors are perfect and my litt...      4.0   \n",
              "\n",
              "                    summary  unixReviewTime   reviewTime  \n",
              "0  These bottles are great!      1369612800  05 27, 2013  \n",
              "1                   perfect      1365465600   04 9, 2013  \n",
              "2         Good cotton wipes      1392336000  02 14, 2014  \n",
              "3        Sending them back.      1373241600   07 8, 2013  \n",
              "4                 Very cute      1378425600   09 6, 2013  "
            ],
            "text/html": [
              "\n",
              "  <div id=\"df-b99074fd-f5d3-4877-b2fd-018ec5e77a98\">\n",
              "    <div class=\"colab-df-container\">\n",
              "      <div>\n",
              "<style scoped>\n",
              "    .dataframe tbody tr th:only-of-type {\n",
              "        vertical-align: middle;\n",
              "    }\n",
              "\n",
              "    .dataframe tbody tr th {\n",
              "        vertical-align: top;\n",
              "    }\n",
              "\n",
              "    .dataframe thead th {\n",
              "        text-align: right;\n",
              "    }\n",
              "</style>\n",
              "<table border=\"1\" class=\"dataframe\">\n",
              "  <thead>\n",
              "    <tr style=\"text-align: right;\">\n",
              "      <th></th>\n",
              "      <th>reviewerID</th>\n",
              "      <th>asin</th>\n",
              "      <th>reviewerName</th>\n",
              "      <th>helpful</th>\n",
              "      <th>reviewText</th>\n",
              "      <th>overall</th>\n",
              "      <th>summary</th>\n",
              "      <th>unixReviewTime</th>\n",
              "      <th>reviewTime</th>\n",
              "    </tr>\n",
              "  </thead>\n",
              "  <tbody>\n",
              "    <tr>\n",
              "      <th>0</th>\n",
              "      <td>A28O3NP6WR5517</td>\n",
              "      <td>0188399313</td>\n",
              "      <td>Jennifer gymer</td>\n",
              "      <td>[0, 0]</td>\n",
              "      <td>They work very well. Easy to clean, we wash th...</td>\n",
              "      <td>5.0</td>\n",
              "      <td>These bottles are great!</td>\n",
              "      <td>1369612800</td>\n",
              "      <td>05 27, 2013</td>\n",
              "    </tr>\n",
              "    <tr>\n",
              "      <th>1</th>\n",
              "      <td>AX0M1Z6ZWO52J</td>\n",
              "      <td>0188399399</td>\n",
              "      <td>Ash M.</td>\n",
              "      <td>[1, 1]</td>\n",
              "      <td>it came early and was not disappointed. i love...</td>\n",
              "      <td>5.0</td>\n",
              "      <td>perfect</td>\n",
              "      <td>1365465600</td>\n",
              "      <td>04 9, 2013</td>\n",
              "    </tr>\n",
              "    <tr>\n",
              "      <th>2</th>\n",
              "      <td>A1KD7N84L7NIUT</td>\n",
              "      <td>0188399518</td>\n",
              "      <td>Buffy Fan</td>\n",
              "      <td>[0, 0]</td>\n",
              "      <td>I ended up with a variety of different brands ...</td>\n",
              "      <td>4.0</td>\n",
              "      <td>Good cotton wipes</td>\n",
              "      <td>1392336000</td>\n",
              "      <td>02 14, 2014</td>\n",
              "    </tr>\n",
              "    <tr>\n",
              "      <th>3</th>\n",
              "      <td>A29CUDEIF4X1UO</td>\n",
              "      <td>0188399518</td>\n",
              "      <td>J. D. Solbach</td>\n",
              "      <td>[1, 1]</td>\n",
              "      <td>These flannel wipes are OK, but in my opinion ...</td>\n",
              "      <td>3.0</td>\n",
              "      <td>Sending them back.</td>\n",
              "      <td>1373241600</td>\n",
              "      <td>07 8, 2013</td>\n",
              "    </tr>\n",
              "    <tr>\n",
              "      <th>4</th>\n",
              "      <td>A32592TYN6C9EM</td>\n",
              "      <td>0316967297</td>\n",
              "      <td>Amazon Customer</td>\n",
              "      <td>[0, 0]</td>\n",
              "      <td>Cute quilt, the colors are perfect and my litt...</td>\n",
              "      <td>4.0</td>\n",
              "      <td>Very cute</td>\n",
              "      <td>1378425600</td>\n",
              "      <td>09 6, 2013</td>\n",
              "    </tr>\n",
              "  </tbody>\n",
              "</table>\n",
              "</div>\n",
              "      <button class=\"colab-df-convert\" onclick=\"convertToInteractive('df-b99074fd-f5d3-4877-b2fd-018ec5e77a98')\"\n",
              "              title=\"Convert this dataframe to an interactive table.\"\n",
              "              style=\"display:none;\">\n",
              "        \n",
              "  <svg xmlns=\"http://www.w3.org/2000/svg\" height=\"24px\"viewBox=\"0 0 24 24\"\n",
              "       width=\"24px\">\n",
              "    <path d=\"M0 0h24v24H0V0z\" fill=\"none\"/>\n",
              "    <path d=\"M18.56 5.44l.94 2.06.94-2.06 2.06-.94-2.06-.94-.94-2.06-.94 2.06-2.06.94zm-11 1L8.5 8.5l.94-2.06 2.06-.94-2.06-.94L8.5 2.5l-.94 2.06-2.06.94zm10 10l.94 2.06.94-2.06 2.06-.94-2.06-.94-.94-2.06-.94 2.06-2.06.94z\"/><path d=\"M17.41 7.96l-1.37-1.37c-.4-.4-.92-.59-1.43-.59-.52 0-1.04.2-1.43.59L10.3 9.45l-7.72 7.72c-.78.78-.78 2.05 0 2.83L4 21.41c.39.39.9.59 1.41.59.51 0 1.02-.2 1.41-.59l7.78-7.78 2.81-2.81c.8-.78.8-2.07 0-2.86zM5.41 20L4 18.59l7.72-7.72 1.47 1.35L5.41 20z\"/>\n",
              "  </svg>\n",
              "      </button>\n",
              "      \n",
              "  <style>\n",
              "    .colab-df-container {\n",
              "      display:flex;\n",
              "      flex-wrap:wrap;\n",
              "      gap: 12px;\n",
              "    }\n",
              "\n",
              "    .colab-df-convert {\n",
              "      background-color: #E8F0FE;\n",
              "      border: none;\n",
              "      border-radius: 50%;\n",
              "      cursor: pointer;\n",
              "      display: none;\n",
              "      fill: #1967D2;\n",
              "      height: 32px;\n",
              "      padding: 0 0 0 0;\n",
              "      width: 32px;\n",
              "    }\n",
              "\n",
              "    .colab-df-convert:hover {\n",
              "      background-color: #E2EBFA;\n",
              "      box-shadow: 0px 1px 2px rgba(60, 64, 67, 0.3), 0px 1px 3px 1px rgba(60, 64, 67, 0.15);\n",
              "      fill: #174EA6;\n",
              "    }\n",
              "\n",
              "    [theme=dark] .colab-df-convert {\n",
              "      background-color: #3B4455;\n",
              "      fill: #D2E3FC;\n",
              "    }\n",
              "\n",
              "    [theme=dark] .colab-df-convert:hover {\n",
              "      background-color: #434B5C;\n",
              "      box-shadow: 0px 1px 3px 1px rgba(0, 0, 0, 0.15);\n",
              "      filter: drop-shadow(0px 1px 2px rgba(0, 0, 0, 0.3));\n",
              "      fill: #FFFFFF;\n",
              "    }\n",
              "  </style>\n",
              "\n",
              "      <script>\n",
              "        const buttonEl =\n",
              "          document.querySelector('#df-b99074fd-f5d3-4877-b2fd-018ec5e77a98 button.colab-df-convert');\n",
              "        buttonEl.style.display =\n",
              "          google.colab.kernel.accessAllowed ? 'block' : 'none';\n",
              "\n",
              "        async function convertToInteractive(key) {\n",
              "          const element = document.querySelector('#df-b99074fd-f5d3-4877-b2fd-018ec5e77a98');\n",
              "          const dataTable =\n",
              "            await google.colab.kernel.invokeFunction('convertToInteractive',\n",
              "                                                     [key], {});\n",
              "          if (!dataTable) return;\n",
              "\n",
              "          const docLinkHtml = 'Like what you see? Visit the ' +\n",
              "            '<a target=\"_blank\" href=https://colab.research.google.com/notebooks/data_table.ipynb>data table notebook</a>'\n",
              "            + ' to learn more about interactive tables.';\n",
              "          element.innerHTML = '';\n",
              "          dataTable['output_type'] = 'display_data';\n",
              "          await google.colab.output.renderOutput(dataTable, element);\n",
              "          const docLink = document.createElement('div');\n",
              "          docLink.innerHTML = docLinkHtml;\n",
              "          element.appendChild(docLink);\n",
              "        }\n",
              "      </script>\n",
              "    </div>\n",
              "  </div>\n",
              "  "
            ]
          },
          "metadata": {},
          "execution_count": 7
        }
      ]
    },
    {
      "cell_type": "code",
      "source": [
        "# extract review baby file \n",
        "!gunzip -k reviews_Baby.json.gz"
      ],
      "metadata": {
        "execution": {
          "iopub.status.busy": "2022-10-23T14:28:59.875638Z",
          "iopub.execute_input": "2022-10-23T14:28:59.876051Z",
          "iopub.status.idle": "2022-10-23T14:29:05.655772Z",
          "shell.execute_reply.started": "2022-10-23T14:28:59.876014Z",
          "shell.execute_reply": "2022-10-23T14:29:05.654423Z"
        },
        "trusted": true,
        "id": "UF_UTcrAIrTM"
      },
      "execution_count": null,
      "outputs": []
    },
    {
      "cell_type": "code",
      "source": [
        "# extract meta baby file \n",
        "!gunzip -k meta_Baby.json.gz"
      ],
      "metadata": {
        "execution": {
          "iopub.status.busy": "2022-10-23T14:29:05.658334Z",
          "iopub.execute_input": "2022-10-23T14:29:05.659426Z",
          "iopub.status.idle": "2022-10-23T14:29:07.489889Z",
          "shell.execute_reply.started": "2022-10-23T14:29:05.659322Z",
          "shell.execute_reply": "2022-10-23T14:29:07.488540Z"
        },
        "trusted": true,
        "id": "rxhONw3XIrTM"
      },
      "execution_count": null,
      "outputs": []
    },
    {
      "cell_type": "code",
      "source": [
        "metadata['description'] = metadata['description'].str.lower() "
      ],
      "metadata": {
        "id": "QyyjhKiYS5Nv"
      },
      "execution_count": null,
      "outputs": []
    },
    {
      "cell_type": "code",
      "source": [
        "reviews['reviewText']=reviews['reviewText'].str.lower()"
      ],
      "metadata": {
        "id": "wn6QINA7TJsA"
      },
      "execution_count": null,
      "outputs": []
    },
    {
      "cell_type": "code",
      "source": [
        "reviews.reviewText=reviews.reviewText.str.replace('[#,@,&]','')"
      ],
      "metadata": {
        "colab": {
          "base_uri": "https://localhost:8080/"
        },
        "id": "Pi3InzCnTSZW",
        "outputId": "c8a51498-cff3-4543-919b-19ca05955a98"
      },
      "execution_count": null,
      "outputs": [
        {
          "output_type": "stream",
          "name": "stderr",
          "text": [
            "<ipython-input-12-c4cdd1a59127>:1: FutureWarning: The default value of regex will change from True to False in a future version.\n",
            "  reviews.reviewText=reviews.reviewText.str.replace('[#,@,&]','')\n"
          ]
        }
      ]
    },
    {
      "cell_type": "code",
      "source": [
        "metadata.description=metadata.description.str.replace('[#,@,&]','')"
      ],
      "metadata": {
        "colab": {
          "base_uri": "https://localhost:8080/"
        },
        "id": "jhcP7Jh6TO6F",
        "outputId": "eaed8f56-8b1a-4c3d-a95a-fc42fbbb22e1"
      },
      "execution_count": null,
      "outputs": [
        {
          "output_type": "stream",
          "name": "stderr",
          "text": [
            "<ipython-input-13-f669e10c16be>:1: FutureWarning: The default value of regex will change from True to False in a future version.\n",
            "  metadata.description=metadata.description.str.replace('[#,@,&]','')\n"
          ]
        }
      ]
    },
    {
      "cell_type": "code",
      "source": [
        "metadata.head()"
      ],
      "metadata": {
        "colab": {
          "base_uri": "https://localhost:8080/",
          "height": 424
        },
        "id": "Ae2eRZ2XTC9k",
        "outputId": "b5ba1982-e826-4665-d30a-c8cff39323df"
      },
      "execution_count": null,
      "outputs": [
        {
          "output_type": "execute_result",
          "data": {
            "text/plain": [
              "         asin categories                                        description  \\\n",
              "0  0188399313   [[Baby]]  wee-go glass baby bottles by lifefactory (baby...   \n",
              "1  0188399518   [[Baby]]  the planet wise flannel wipes are 10 super sof...   \n",
              "2  0188399399   [[Baby]]  the planet wise wipe pouchtm features our pate...   \n",
              "3  0316967297   [[Baby]]  hand crafted set includes 1 full quilt (76x86 ...   \n",
              "4  0615447279   [[Baby]]  thumbuddy to love- the binky fairy helps child...   \n",
              "\n",
              "                                               title   price  \\\n",
              "0  Lifefactory 4oz BPA Free Glass Baby Bottles - ...   69.99   \n",
              "1                           Planetwise Flannel Wipes   15.95   \n",
              "2                              Planetwise Wipe Pouch   10.95   \n",
              "3                Annas Dream Full Quilt with 2 Shams  109.95   \n",
              "4  Stop Pacifier Sucking without tears with Thumb...   16.95   \n",
              "\n",
              "                                               imUrl        brand  \\\n",
              "0  http://ecx.images-amazon.com/images/I/41Swthpd...  Lifefactory   \n",
              "1  http://ecx.images-amazon.com/images/I/41otjnA4...  Planet Wise   \n",
              "2  http://ecx.images-amazon.com/images/I/61x8h9u6...          NaN   \n",
              "3  http://ecx.images-amazon.com/images/I/51%2BZ1%...          NaN   \n",
              "4  http://ecx.images-amazon.com/images/I/51RKKENl...                \n",
              "\n",
              "                                             related salesRank  \n",
              "0  {'also_bought': ['B002SG7K7A', 'B003CJSXW8', '...       NaN  \n",
              "1  {'also_bought': ['B00G96N3YY', 'B003XSEV2O', '...       NaN  \n",
              "2  {'also_bought': ['B005WWI0DA', 'B005WWIMGA', '...       NaN  \n",
              "3  {'also_viewed': ['B009LTER3W', 'B00575TI5Q', '...       NaN  \n",
              "4  {'also_bought': ['0979670004', '1601310234', '...       NaN  "
            ],
            "text/html": [
              "\n",
              "  <div id=\"df-215d822a-ca9b-41c6-8a61-944eb4eafff8\">\n",
              "    <div class=\"colab-df-container\">\n",
              "      <div>\n",
              "<style scoped>\n",
              "    .dataframe tbody tr th:only-of-type {\n",
              "        vertical-align: middle;\n",
              "    }\n",
              "\n",
              "    .dataframe tbody tr th {\n",
              "        vertical-align: top;\n",
              "    }\n",
              "\n",
              "    .dataframe thead th {\n",
              "        text-align: right;\n",
              "    }\n",
              "</style>\n",
              "<table border=\"1\" class=\"dataframe\">\n",
              "  <thead>\n",
              "    <tr style=\"text-align: right;\">\n",
              "      <th></th>\n",
              "      <th>asin</th>\n",
              "      <th>categories</th>\n",
              "      <th>description</th>\n",
              "      <th>title</th>\n",
              "      <th>price</th>\n",
              "      <th>imUrl</th>\n",
              "      <th>brand</th>\n",
              "      <th>related</th>\n",
              "      <th>salesRank</th>\n",
              "    </tr>\n",
              "  </thead>\n",
              "  <tbody>\n",
              "    <tr>\n",
              "      <th>0</th>\n",
              "      <td>0188399313</td>\n",
              "      <td>[[Baby]]</td>\n",
              "      <td>wee-go glass baby bottles by lifefactory (baby...</td>\n",
              "      <td>Lifefactory 4oz BPA Free Glass Baby Bottles - ...</td>\n",
              "      <td>69.99</td>\n",
              "      <td>http://ecx.images-amazon.com/images/I/41Swthpd...</td>\n",
              "      <td>Lifefactory</td>\n",
              "      <td>{'also_bought': ['B002SG7K7A', 'B003CJSXW8', '...</td>\n",
              "      <td>NaN</td>\n",
              "    </tr>\n",
              "    <tr>\n",
              "      <th>1</th>\n",
              "      <td>0188399518</td>\n",
              "      <td>[[Baby]]</td>\n",
              "      <td>the planet wise flannel wipes are 10 super sof...</td>\n",
              "      <td>Planetwise Flannel Wipes</td>\n",
              "      <td>15.95</td>\n",
              "      <td>http://ecx.images-amazon.com/images/I/41otjnA4...</td>\n",
              "      <td>Planet Wise</td>\n",
              "      <td>{'also_bought': ['B00G96N3YY', 'B003XSEV2O', '...</td>\n",
              "      <td>NaN</td>\n",
              "    </tr>\n",
              "    <tr>\n",
              "      <th>2</th>\n",
              "      <td>0188399399</td>\n",
              "      <td>[[Baby]]</td>\n",
              "      <td>the planet wise wipe pouchtm features our pate...</td>\n",
              "      <td>Planetwise Wipe Pouch</td>\n",
              "      <td>10.95</td>\n",
              "      <td>http://ecx.images-amazon.com/images/I/61x8h9u6...</td>\n",
              "      <td>NaN</td>\n",
              "      <td>{'also_bought': ['B005WWI0DA', 'B005WWIMGA', '...</td>\n",
              "      <td>NaN</td>\n",
              "    </tr>\n",
              "    <tr>\n",
              "      <th>3</th>\n",
              "      <td>0316967297</td>\n",
              "      <td>[[Baby]]</td>\n",
              "      <td>hand crafted set includes 1 full quilt (76x86 ...</td>\n",
              "      <td>Annas Dream Full Quilt with 2 Shams</td>\n",
              "      <td>109.95</td>\n",
              "      <td>http://ecx.images-amazon.com/images/I/51%2BZ1%...</td>\n",
              "      <td>NaN</td>\n",
              "      <td>{'also_viewed': ['B009LTER3W', 'B00575TI5Q', '...</td>\n",
              "      <td>NaN</td>\n",
              "    </tr>\n",
              "    <tr>\n",
              "      <th>4</th>\n",
              "      <td>0615447279</td>\n",
              "      <td>[[Baby]]</td>\n",
              "      <td>thumbuddy to love- the binky fairy helps child...</td>\n",
              "      <td>Stop Pacifier Sucking without tears with Thumb...</td>\n",
              "      <td>16.95</td>\n",
              "      <td>http://ecx.images-amazon.com/images/I/51RKKENl...</td>\n",
              "      <td></td>\n",
              "      <td>{'also_bought': ['0979670004', '1601310234', '...</td>\n",
              "      <td>NaN</td>\n",
              "    </tr>\n",
              "  </tbody>\n",
              "</table>\n",
              "</div>\n",
              "      <button class=\"colab-df-convert\" onclick=\"convertToInteractive('df-215d822a-ca9b-41c6-8a61-944eb4eafff8')\"\n",
              "              title=\"Convert this dataframe to an interactive table.\"\n",
              "              style=\"display:none;\">\n",
              "        \n",
              "  <svg xmlns=\"http://www.w3.org/2000/svg\" height=\"24px\"viewBox=\"0 0 24 24\"\n",
              "       width=\"24px\">\n",
              "    <path d=\"M0 0h24v24H0V0z\" fill=\"none\"/>\n",
              "    <path d=\"M18.56 5.44l.94 2.06.94-2.06 2.06-.94-2.06-.94-.94-2.06-.94 2.06-2.06.94zm-11 1L8.5 8.5l.94-2.06 2.06-.94-2.06-.94L8.5 2.5l-.94 2.06-2.06.94zm10 10l.94 2.06.94-2.06 2.06-.94-2.06-.94-.94-2.06-.94 2.06-2.06.94z\"/><path d=\"M17.41 7.96l-1.37-1.37c-.4-.4-.92-.59-1.43-.59-.52 0-1.04.2-1.43.59L10.3 9.45l-7.72 7.72c-.78.78-.78 2.05 0 2.83L4 21.41c.39.39.9.59 1.41.59.51 0 1.02-.2 1.41-.59l7.78-7.78 2.81-2.81c.8-.78.8-2.07 0-2.86zM5.41 20L4 18.59l7.72-7.72 1.47 1.35L5.41 20z\"/>\n",
              "  </svg>\n",
              "      </button>\n",
              "      \n",
              "  <style>\n",
              "    .colab-df-container {\n",
              "      display:flex;\n",
              "      flex-wrap:wrap;\n",
              "      gap: 12px;\n",
              "    }\n",
              "\n",
              "    .colab-df-convert {\n",
              "      background-color: #E8F0FE;\n",
              "      border: none;\n",
              "      border-radius: 50%;\n",
              "      cursor: pointer;\n",
              "      display: none;\n",
              "      fill: #1967D2;\n",
              "      height: 32px;\n",
              "      padding: 0 0 0 0;\n",
              "      width: 32px;\n",
              "    }\n",
              "\n",
              "    .colab-df-convert:hover {\n",
              "      background-color: #E2EBFA;\n",
              "      box-shadow: 0px 1px 2px rgba(60, 64, 67, 0.3), 0px 1px 3px 1px rgba(60, 64, 67, 0.15);\n",
              "      fill: #174EA6;\n",
              "    }\n",
              "\n",
              "    [theme=dark] .colab-df-convert {\n",
              "      background-color: #3B4455;\n",
              "      fill: #D2E3FC;\n",
              "    }\n",
              "\n",
              "    [theme=dark] .colab-df-convert:hover {\n",
              "      background-color: #434B5C;\n",
              "      box-shadow: 0px 1px 3px 1px rgba(0, 0, 0, 0.15);\n",
              "      filter: drop-shadow(0px 1px 2px rgba(0, 0, 0, 0.3));\n",
              "      fill: #FFFFFF;\n",
              "    }\n",
              "  </style>\n",
              "\n",
              "      <script>\n",
              "        const buttonEl =\n",
              "          document.querySelector('#df-215d822a-ca9b-41c6-8a61-944eb4eafff8 button.colab-df-convert');\n",
              "        buttonEl.style.display =\n",
              "          google.colab.kernel.accessAllowed ? 'block' : 'none';\n",
              "\n",
              "        async function convertToInteractive(key) {\n",
              "          const element = document.querySelector('#df-215d822a-ca9b-41c6-8a61-944eb4eafff8');\n",
              "          const dataTable =\n",
              "            await google.colab.kernel.invokeFunction('convertToInteractive',\n",
              "                                                     [key], {});\n",
              "          if (!dataTable) return;\n",
              "\n",
              "          const docLinkHtml = 'Like what you see? Visit the ' +\n",
              "            '<a target=\"_blank\" href=https://colab.research.google.com/notebooks/data_table.ipynb>data table notebook</a>'\n",
              "            + ' to learn more about interactive tables.';\n",
              "          element.innerHTML = '';\n",
              "          dataTable['output_type'] = 'display_data';\n",
              "          await google.colab.output.renderOutput(dataTable, element);\n",
              "          const docLink = document.createElement('div');\n",
              "          docLink.innerHTML = docLinkHtml;\n",
              "          element.appendChild(docLink);\n",
              "        }\n",
              "      </script>\n",
              "    </div>\n",
              "  </div>\n",
              "  "
            ]
          },
          "metadata": {},
          "execution_count": 14
        }
      ]
    },
    {
      "cell_type": "code",
      "source": [
        "reviews.head()"
      ],
      "metadata": {
        "colab": {
          "base_uri": "https://localhost:8080/",
          "height": 337
        },
        "id": "WwzTnl0JTmSL",
        "outputId": "62d53b72-cfa5-428c-ff58-0d8817232bf7"
      },
      "execution_count": null,
      "outputs": [
        {
          "output_type": "execute_result",
          "data": {
            "text/plain": [
              "       reviewerID        asin     reviewerName helpful  \\\n",
              "0  A28O3NP6WR5517  0188399313   Jennifer gymer  [0, 0]   \n",
              "1   AX0M1Z6ZWO52J  0188399399           Ash M.  [1, 1]   \n",
              "2  A1KD7N84L7NIUT  0188399518        Buffy Fan  [0, 0]   \n",
              "3  A29CUDEIF4X1UO  0188399518    J. D. Solbach  [1, 1]   \n",
              "4  A32592TYN6C9EM  0316967297  Amazon Customer  [0, 0]   \n",
              "\n",
              "                                          reviewText  overall  \\\n",
              "0  they work very well. easy to clean we wash the...      5.0   \n",
              "1  it came early and was not disappointed. i love...      5.0   \n",
              "2  i ended up with a variety of different brands ...      4.0   \n",
              "3  these flannel wipes are ok but in my opinion n...      3.0   \n",
              "4  cute quilt the colors are perfect and my littl...      4.0   \n",
              "\n",
              "                    summary  unixReviewTime   reviewTime  \n",
              "0  These bottles are great!      1369612800  05 27, 2013  \n",
              "1                   perfect      1365465600   04 9, 2013  \n",
              "2         Good cotton wipes      1392336000  02 14, 2014  \n",
              "3        Sending them back.      1373241600   07 8, 2013  \n",
              "4                 Very cute      1378425600   09 6, 2013  "
            ],
            "text/html": [
              "\n",
              "  <div id=\"df-2d885bc3-7bea-464d-bc0d-5b96a7bcdb8f\">\n",
              "    <div class=\"colab-df-container\">\n",
              "      <div>\n",
              "<style scoped>\n",
              "    .dataframe tbody tr th:only-of-type {\n",
              "        vertical-align: middle;\n",
              "    }\n",
              "\n",
              "    .dataframe tbody tr th {\n",
              "        vertical-align: top;\n",
              "    }\n",
              "\n",
              "    .dataframe thead th {\n",
              "        text-align: right;\n",
              "    }\n",
              "</style>\n",
              "<table border=\"1\" class=\"dataframe\">\n",
              "  <thead>\n",
              "    <tr style=\"text-align: right;\">\n",
              "      <th></th>\n",
              "      <th>reviewerID</th>\n",
              "      <th>asin</th>\n",
              "      <th>reviewerName</th>\n",
              "      <th>helpful</th>\n",
              "      <th>reviewText</th>\n",
              "      <th>overall</th>\n",
              "      <th>summary</th>\n",
              "      <th>unixReviewTime</th>\n",
              "      <th>reviewTime</th>\n",
              "    </tr>\n",
              "  </thead>\n",
              "  <tbody>\n",
              "    <tr>\n",
              "      <th>0</th>\n",
              "      <td>A28O3NP6WR5517</td>\n",
              "      <td>0188399313</td>\n",
              "      <td>Jennifer gymer</td>\n",
              "      <td>[0, 0]</td>\n",
              "      <td>they work very well. easy to clean we wash the...</td>\n",
              "      <td>5.0</td>\n",
              "      <td>These bottles are great!</td>\n",
              "      <td>1369612800</td>\n",
              "      <td>05 27, 2013</td>\n",
              "    </tr>\n",
              "    <tr>\n",
              "      <th>1</th>\n",
              "      <td>AX0M1Z6ZWO52J</td>\n",
              "      <td>0188399399</td>\n",
              "      <td>Ash M.</td>\n",
              "      <td>[1, 1]</td>\n",
              "      <td>it came early and was not disappointed. i love...</td>\n",
              "      <td>5.0</td>\n",
              "      <td>perfect</td>\n",
              "      <td>1365465600</td>\n",
              "      <td>04 9, 2013</td>\n",
              "    </tr>\n",
              "    <tr>\n",
              "      <th>2</th>\n",
              "      <td>A1KD7N84L7NIUT</td>\n",
              "      <td>0188399518</td>\n",
              "      <td>Buffy Fan</td>\n",
              "      <td>[0, 0]</td>\n",
              "      <td>i ended up with a variety of different brands ...</td>\n",
              "      <td>4.0</td>\n",
              "      <td>Good cotton wipes</td>\n",
              "      <td>1392336000</td>\n",
              "      <td>02 14, 2014</td>\n",
              "    </tr>\n",
              "    <tr>\n",
              "      <th>3</th>\n",
              "      <td>A29CUDEIF4X1UO</td>\n",
              "      <td>0188399518</td>\n",
              "      <td>J. D. Solbach</td>\n",
              "      <td>[1, 1]</td>\n",
              "      <td>these flannel wipes are ok but in my opinion n...</td>\n",
              "      <td>3.0</td>\n",
              "      <td>Sending them back.</td>\n",
              "      <td>1373241600</td>\n",
              "      <td>07 8, 2013</td>\n",
              "    </tr>\n",
              "    <tr>\n",
              "      <th>4</th>\n",
              "      <td>A32592TYN6C9EM</td>\n",
              "      <td>0316967297</td>\n",
              "      <td>Amazon Customer</td>\n",
              "      <td>[0, 0]</td>\n",
              "      <td>cute quilt the colors are perfect and my littl...</td>\n",
              "      <td>4.0</td>\n",
              "      <td>Very cute</td>\n",
              "      <td>1378425600</td>\n",
              "      <td>09 6, 2013</td>\n",
              "    </tr>\n",
              "  </tbody>\n",
              "</table>\n",
              "</div>\n",
              "      <button class=\"colab-df-convert\" onclick=\"convertToInteractive('df-2d885bc3-7bea-464d-bc0d-5b96a7bcdb8f')\"\n",
              "              title=\"Convert this dataframe to an interactive table.\"\n",
              "              style=\"display:none;\">\n",
              "        \n",
              "  <svg xmlns=\"http://www.w3.org/2000/svg\" height=\"24px\"viewBox=\"0 0 24 24\"\n",
              "       width=\"24px\">\n",
              "    <path d=\"M0 0h24v24H0V0z\" fill=\"none\"/>\n",
              "    <path d=\"M18.56 5.44l.94 2.06.94-2.06 2.06-.94-2.06-.94-.94-2.06-.94 2.06-2.06.94zm-11 1L8.5 8.5l.94-2.06 2.06-.94-2.06-.94L8.5 2.5l-.94 2.06-2.06.94zm10 10l.94 2.06.94-2.06 2.06-.94-2.06-.94-.94-2.06-.94 2.06-2.06.94z\"/><path d=\"M17.41 7.96l-1.37-1.37c-.4-.4-.92-.59-1.43-.59-.52 0-1.04.2-1.43.59L10.3 9.45l-7.72 7.72c-.78.78-.78 2.05 0 2.83L4 21.41c.39.39.9.59 1.41.59.51 0 1.02-.2 1.41-.59l7.78-7.78 2.81-2.81c.8-.78.8-2.07 0-2.86zM5.41 20L4 18.59l7.72-7.72 1.47 1.35L5.41 20z\"/>\n",
              "  </svg>\n",
              "      </button>\n",
              "      \n",
              "  <style>\n",
              "    .colab-df-container {\n",
              "      display:flex;\n",
              "      flex-wrap:wrap;\n",
              "      gap: 12px;\n",
              "    }\n",
              "\n",
              "    .colab-df-convert {\n",
              "      background-color: #E8F0FE;\n",
              "      border: none;\n",
              "      border-radius: 50%;\n",
              "      cursor: pointer;\n",
              "      display: none;\n",
              "      fill: #1967D2;\n",
              "      height: 32px;\n",
              "      padding: 0 0 0 0;\n",
              "      width: 32px;\n",
              "    }\n",
              "\n",
              "    .colab-df-convert:hover {\n",
              "      background-color: #E2EBFA;\n",
              "      box-shadow: 0px 1px 2px rgba(60, 64, 67, 0.3), 0px 1px 3px 1px rgba(60, 64, 67, 0.15);\n",
              "      fill: #174EA6;\n",
              "    }\n",
              "\n",
              "    [theme=dark] .colab-df-convert {\n",
              "      background-color: #3B4455;\n",
              "      fill: #D2E3FC;\n",
              "    }\n",
              "\n",
              "    [theme=dark] .colab-df-convert:hover {\n",
              "      background-color: #434B5C;\n",
              "      box-shadow: 0px 1px 3px 1px rgba(0, 0, 0, 0.15);\n",
              "      filter: drop-shadow(0px 1px 2px rgba(0, 0, 0, 0.3));\n",
              "      fill: #FFFFFF;\n",
              "    }\n",
              "  </style>\n",
              "\n",
              "      <script>\n",
              "        const buttonEl =\n",
              "          document.querySelector('#df-2d885bc3-7bea-464d-bc0d-5b96a7bcdb8f button.colab-df-convert');\n",
              "        buttonEl.style.display =\n",
              "          google.colab.kernel.accessAllowed ? 'block' : 'none';\n",
              "\n",
              "        async function convertToInteractive(key) {\n",
              "          const element = document.querySelector('#df-2d885bc3-7bea-464d-bc0d-5b96a7bcdb8f');\n",
              "          const dataTable =\n",
              "            await google.colab.kernel.invokeFunction('convertToInteractive',\n",
              "                                                     [key], {});\n",
              "          if (!dataTable) return;\n",
              "\n",
              "          const docLinkHtml = 'Like what you see? Visit the ' +\n",
              "            '<a target=\"_blank\" href=https://colab.research.google.com/notebooks/data_table.ipynb>data table notebook</a>'\n",
              "            + ' to learn more about interactive tables.';\n",
              "          element.innerHTML = '';\n",
              "          dataTable['output_type'] = 'display_data';\n",
              "          await google.colab.output.renderOutput(dataTable, element);\n",
              "          const docLink = document.createElement('div');\n",
              "          docLink.innerHTML = docLinkHtml;\n",
              "          element.appendChild(docLink);\n",
              "        }\n",
              "      </script>\n",
              "    </div>\n",
              "  </div>\n",
              "  "
            ]
          },
          "metadata": {},
          "execution_count": 15
        }
      ]
    },
    {
      "cell_type": "markdown",
      "source": [
        "## Preprocessing"
      ],
      "metadata": {
        "id": "JkFajGguIrTM"
      }
    },
    {
      "cell_type": "code",
      "source": [
        "#Hyperparameter \n",
        "dataName =  \"Baby\"# name of your product\n",
        "vector_size = 100 # vector size of reviewtext and item description\n",
        "epoch_num = 100 # number of vector\n",
        "reviews_data = [] # review list to insert review data inside\n",
        "meta_data = [] # meta list to insert meta data inside\n",
        "num_ui_link = 20  # the number of each user link to items\n",
        "num_iu_link = 0  # the number of each item link to user\n",
        "\n",
        "# user -> item  ->  for text\n",
        "ui_dict = defaultdict(list)\n",
        "#item -> user - >  for text\n",
        "iu_dict = defaultdict(list)\n",
        "#rating training data list\n",
        "reviews_train_data = []\n",
        "#rating testing data list\n",
        "reviews_test_data = []\n",
        "# max number of item\n",
        "max_num_item = 1\n",
        "# max number of users\n",
        "max_num_user = 1\n",
        "#item -> user -> for rating\n",
        "iu_dict2 = defaultdict(list)\n",
        "# user -> item  ->  for rating\n",
        "ui_dict2 = defaultdict(list)\n",
        "len_ui_dict = {}\n",
        "split_ratio = 4 #ratio to split between test and train\n",
        "epochs = 20 "
      ],
      "metadata": {
        "execution": {
          "iopub.status.busy": "2022-10-23T14:29:07.492091Z",
          "iopub.execute_input": "2022-10-23T14:29:07.492549Z",
          "iopub.status.idle": "2022-10-23T14:29:07.502766Z",
          "shell.execute_reply.started": "2022-10-23T14:29:07.492505Z",
          "shell.execute_reply": "2022-10-23T14:29:07.500350Z"
        },
        "trusted": true,
        "id": "c3ew_eOIIrTN"
      },
      "execution_count": null,
      "outputs": []
    },
    {
      "cell_type": "code",
      "source": [
        "# Append review.json to  review_data list\n",
        "\n",
        "with open('./reviews_' + dataName + '.json') as f:\n",
        "    for line in f:\n",
        "        reviews_data.append(json.loads(line))\n",
        "    f.close()\n",
        "   "
      ],
      "metadata": {
        "execution": {
          "iopub.status.busy": "2022-10-23T14:29:07.507980Z",
          "iopub.execute_input": "2022-10-23T14:29:07.508835Z",
          "iopub.status.idle": "2022-10-23T14:29:17.901596Z",
          "shell.execute_reply.started": "2022-10-23T14:29:07.508799Z",
          "shell.execute_reply": "2022-10-23T14:29:17.900588Z"
        },
        "trusted": true,
        "id": "B8K7eKxWIrTN"
      },
      "execution_count": null,
      "outputs": []
    },
    {
      "cell_type": "code",
      "source": [
        "#reviews_data[:1]"
      ],
      "metadata": {
        "execution": {
          "iopub.status.busy": "2022-10-23T14:29:17.902890Z",
          "iopub.execute_input": "2022-10-23T14:29:17.903650Z",
          "iopub.status.idle": "2022-10-23T14:29:17.907895Z",
          "shell.execute_reply.started": "2022-10-23T14:29:17.903610Z",
          "shell.execute_reply": "2022-10-23T14:29:17.907004Z"
        },
        "trusted": true,
        "id": "CwkShxNiIrTN"
      },
      "execution_count": null,
      "outputs": []
    },
    {
      "cell_type": "markdown",
      "source": [
        "```\n",
        "## Output\n",
        "\n",
        "[{'reviewerID': 'A28O3NP6WR5517',\n",
        "  'asin': '0188399313',\n",
        "  'reviewerName': 'Jennifer gymer',\n",
        "  'helpful': [0, 0],\n",
        "  'reviewText': 'They work very well. Easy to clean, we wash them in the dishwasher every day. Our LO loves to hold on to the bottle and the plastic covering makes it easy for her to hold on to.',\n",
        "  'overall': 5.0,\n",
        "  'summary': 'These bottles are great!',\n",
        "\n",
        "'unixReviewTime': 1369612800,\n",
        "  'reviewTime': '05 27, 2013'}]\n",
        "```"
      ],
      "metadata": {
        "id": "haGzWU17IrTN"
      }
    },
    {
      "cell_type": "code",
      "source": [
        "#showing review text for each prediction \n",
        "dis =  {}\n",
        "for i in reviews_data :\n",
        "    if  len(dis) == 5 :\n",
        "        break\n",
        "    if i[\"overall\"] not in dis :\n",
        "        dis[i[\"overall\"]] = i[\"reviewText\"]\n",
        "        \n"
      ],
      "metadata": {
        "execution": {
          "iopub.status.busy": "2022-10-23T14:29:17.909258Z",
          "iopub.execute_input": "2022-10-23T14:29:17.910273Z",
          "iopub.status.idle": "2022-10-23T14:29:18.463544Z",
          "shell.execute_reply.started": "2022-10-23T14:29:17.910238Z",
          "shell.execute_reply": "2022-10-23T14:29:18.462464Z"
        },
        "trusted": true,
        "id": "K4SnPwu2IrTN"
      },
      "execution_count": null,
      "outputs": []
    },
    {
      "cell_type": "code",
      "source": [
        "dis = dict(sorted(dis.items(),key = lambda x:x[0]))\n",
        "for i,j in dis.items():\n",
        "    print(i, \"  \" , j )\n",
        "    print()"
      ],
      "metadata": {
        "execution": {
          "iopub.status.busy": "2022-10-23T14:29:18.465109Z",
          "iopub.execute_input": "2022-10-23T14:29:18.465623Z",
          "iopub.status.idle": "2022-10-23T14:29:18.476004Z",
          "shell.execute_reply.started": "2022-10-23T14:29:18.465576Z",
          "shell.execute_reply": "2022-10-23T14:29:18.474930Z"
        },
        "trusted": true,
        "colab": {
          "base_uri": "https://localhost:8080/"
        },
        "id": "jFifvMqyIrTO",
        "outputId": "02b46929-22e3-400e-be7b-7875bc93f0c6"
      },
      "execution_count": null,
      "outputs": [
        {
          "output_type": "stream",
          "name": "stdout",
          "text": [
            "1.0    I think the papers and stickers that come w/ it are cute, but the book itself is pretty cheap looking.\n",
            "\n",
            "2.0    I bought this with high hopes of it actually working to get my 2 year old daughter off of her pacifier. While she really likes the book, I don't think it's going to work. I went in her room in the night to deliver the pacifier fairy and take the pacifier and she woke up SCREAMING for her pacifier before I even left the room. This does not have any real support or tips for parents. We will keep reading the book and try again, but not thinking it will work for us.\n",
            "\n",
            "3.0    These flannel wipes are OK, but in my opinion not worth keeping.  I also ordered someImse Vimse Cloth Wipes-Ocean Blue-12 countwhich are larger, had a nicer, softer texture and just seemed higher quality.  I use cloth wipes for hands and faces and have been usingThirsties 6 Pack Fab Wipes, Boyfor about 8 months now and need to replace them because they are starting to get rough and have had stink issues for a while that stripping no longer handles.\n",
            "\n",
            "4.0    I ended up with a variety of different brands of cotton flannel baby wipes.  These are good quality, just not my personal favorite.  However, if the colors really do it for you, go ahead and stock up on these, they're good.  And really, we're talking squares of flannel, it's not critical.  For what it's worth, I like BumGenius wipes best for absorbency - like wiping up spit-up.  They're thick and soft.  I like OsoCozy best for cleaning baby bums, because they're thin, the better to clean crevices with.  ALL the wipes I bought shrank a lot in the first wash (hot), so expect that.I avoided GroVia for being synthetic, but in retrospect that might have been the way to go.  I have all BumGenius 4.0 diapers, which shouldn't be washed with natural fibers.  Now I have to wash the cotton wipes with baby's clothes, rather than with the diapers, which isn't ideal.\n",
            "\n",
            "5.0    They work very well. Easy to clean, we wash them in the dishwasher every day. Our LO loves to hold on to the bottle and the plastic covering makes it easy for her to hold on to.\n",
            "\n"
          ]
        }
      ]
    },
    {
      "cell_type": "code",
      "source": [
        "# Append meta.json to meta_data list\n",
        "with open('./meta_' + dataName + '.json') as f:\n",
        "    for line in f:\n",
        "        line_dict = json.dumps(eval(line))\n",
        "        meta_data.append(json.loads(line_dict))\n",
        "    f.close()"
      ],
      "metadata": {
        "execution": {
          "iopub.status.busy": "2022-10-23T14:29:18.477662Z",
          "iopub.execute_input": "2022-10-23T14:29:18.478022Z",
          "iopub.status.idle": "2022-10-23T14:29:32.007680Z",
          "shell.execute_reply.started": "2022-10-23T14:29:18.477989Z",
          "shell.execute_reply": "2022-10-23T14:29:32.006753Z"
        },
        "trusted": true,
        "id": "GghvOXQGIrTO"
      },
      "execution_count": null,
      "outputs": []
    },
    {
      "cell_type": "code",
      "source": [
        "#meta_data[:1]"
      ],
      "metadata": {
        "execution": {
          "iopub.status.busy": "2022-10-23T14:29:32.009286Z",
          "iopub.execute_input": "2022-10-23T14:29:32.009690Z",
          "iopub.status.idle": "2022-10-23T14:29:32.014343Z",
          "shell.execute_reply.started": "2022-10-23T14:29:32.009649Z",
          "shell.execute_reply": "2022-10-23T14:29:32.013305Z"
        },
        "trusted": true,
        "id": "-_dWKrW_IrTO"
      },
      "execution_count": null,
      "outputs": []
    },
    {
      "cell_type": "markdown",
      "source": [
        "```\n",
        "[{'asin': '0188399313',\n",
        "  'categories': [['Baby']],\n",
        "  'description': 'Wee-Go Glass baby bottles by LifeFactory (Babylife) are designed to grow with your child. The included clear cover can also serve as an easy to hold cup. Twist on the solid cap (sold separately) and use your bottles for storing juice or snacks. Perfect for a lunchbox or traveling. The bright colored silicone sleeve (patent pending) helps to protect the bottle from breakage and provides a great gripping surface and tactile experience during feeding. The bottle and sleeve can be boiled or put in the dishwasher together. They can also go in the freezer, making breast milk storage simple.',\n",
        "  'title': 'Lifefactory 4oz BPA Free Glass Baby Bottles - 4-pack-raspberry and Lilac',\n",
        "  'price': 69.99,\n",
        "  'imUrl': 'http://ecx.images-amazon.com/images/I/41SwthpdD9L._SX300_.jpg',\n",
        "  'brand': 'Lifefactory',\n",
        "  'related': {'also_bought': ['B002SG7K7A',\n",
        "    'B003CJSXW8',\n",
        "    'B004PW4186',\n",
        "    'B002O3JH9Q',\n",
        "    'B002O3NLIO',\n",
        "    'B004HGSU28'],\n",
        "   'also_viewed': ['B003CJSXW8',\n",
        "    'B0052QOL1Q',\n",
        "    'B004PW4186',\n",
        "    'B00EN0OLZ8',\n",
        "    'B00EN0OOQY',\n",
        "    'B0049YS46K',\n",
        "    'B00E64CBLM',\n",
        "    'B00F9YOOS6',\n",
        "    'B00AH9RPVQ',\n",
        "    'B00BCU2R7G',\n",
        "    'B002O3NLIO',\n",
        "    'B008NZ4X2K',\n",
        "    'B005NIDFEW',\n",
        "    'B00DKPJCH4',\n",
        "    'B00CZNGWWK',\n",
        "    'B00DAKJIQ4',\n",
        "    'B005CT55IQ',\n",
        "    'B0049YRJM0',\n",
        "    'B0071IEWD0',\n",
        "    'B00E64CA68',\n",
        "    'B00IUB3SKK',\n",
        "    'B00A7AA6XY',\n",
        "    'B001F50FFE',\n",
        "    'B002HU9EO4',\n",
        "    'B007HP11SQ',\n",
        "    'B009WPUMX4',\n",
        "    'B002O3JH9Q',\n",
        "    'B00F2FT3K6',\n",
        "    'B00I5CR35A',\n",
        "    'B00BCTY5EK',\n",
        "    'B002SG7K7A',\n",
        "    'B00F2FLU2U',\n",
        "    'B0062ZK0GQ',\n",
        "    'B002UOFR66',\n",
        "    'B0055LKQQ2',\n",
        "    'B00A0FGN8I',\n",
        "    'B00HMYCG2W',\n",
        "    'B00DHFLUO0',\n",
        "    'B0040HMPA2',\n",
        "    'B00I5CT9XE',\n",
        "    'B008B5MMNO',\n",
        "    'B00BQYVNGO',\n",
        "    'B00925WM28',\n",
        "    'B00BGKC3EY',\n",
        "    'B005Q3LSDO',\n",
        "    'B0038JDVCE',\n",
        "    'B0045I6IA4'],\n",
        "   'bought_together': ['B002SG7K7A', 'B003CJSXW8'],\n",
        "   'buy_after_viewing': ['B003CJSXW8',\n",
        "    'B0052QOL1Q',\n",
        "    'B004PW4186',\n",
        "    'B002SG7K7A']}}]\n",
        "   ```\n"
      ],
      "metadata": {
        "id": "Lp0kRP8uIrTO"
      }
    },
    {
      "cell_type": "code",
      "source": [
        "#fill user to item and item to user dictionaries\n",
        "for line_data in reviews_data:\n",
        "    user_id = line_data[\"reviewerID\"] # extract review_id from each review in reviews_data list\n",
        "    item_id = line_data[\"asin\"]  # extract item_id from each review in reviews_data list\n",
        "    ui_dict[user_id].append(item_id) # assign review_id  to  item_id in ui_dict \n",
        "    iu_dict[item_id].append(user_id) # assign item_id  to review_id   in iu_dict \n",
        "#print lenght for the two dictionaries\n",
        "print(\"len(ui_dict)=\", len(ui_dict))\n",
        "print(\"len(iu_dict)=\", len(iu_dict))"
      ],
      "metadata": {
        "execution": {
          "iopub.status.busy": "2022-10-23T14:29:32.015981Z",
          "iopub.execute_input": "2022-10-23T14:29:32.016444Z",
          "iopub.status.idle": "2022-10-23T14:29:33.241617Z",
          "shell.execute_reply.started": "2022-10-23T14:29:32.016409Z",
          "shell.execute_reply": "2022-10-23T14:29:33.240646Z"
        },
        "trusted": true,
        "colab": {
          "base_uri": "https://localhost:8080/"
        },
        "id": "Xe3j85eJIrTO",
        "outputId": "c7218cdd-95f1-49da-95a3-5a67b2c9928b"
      },
      "execution_count": null,
      "outputs": [
        {
          "output_type": "stream",
          "name": "stdout",
          "text": [
            "len(ui_dict)= 531890\n",
            "len(iu_dict)= 64426\n"
          ]
        }
      ]
    },
    {
      "cell_type": "code",
      "source": [
        "#ui_dict >>  ex >> 'A28O3NP6WR5517': ['0188399313', 'B004I110D8', 'B006ZZSME0']"
      ],
      "metadata": {
        "execution": {
          "iopub.status.busy": "2022-10-23T14:29:33.243193Z",
          "iopub.execute_input": "2022-10-23T14:29:33.243888Z",
          "iopub.status.idle": "2022-10-23T14:29:33.248846Z",
          "shell.execute_reply.started": "2022-10-23T14:29:33.243846Z",
          "shell.execute_reply": "2022-10-23T14:29:33.247686Z"
        },
        "trusted": true,
        "id": "T4Uro-lyIrTP"
      },
      "execution_count": null,
      "outputs": []
    },
    {
      "cell_type": "code",
      "source": [
        "#iu_dict >>  ex >> '0188399313': ['A28O3NP6WR5517']"
      ],
      "metadata": {
        "execution": {
          "iopub.status.busy": "2022-10-23T14:29:33.250555Z",
          "iopub.execute_input": "2022-10-23T14:29:33.250928Z",
          "iopub.status.idle": "2022-10-23T14:29:33.259434Z",
          "shell.execute_reply.started": "2022-10-23T14:29:33.250892Z",
          "shell.execute_reply": "2022-10-23T14:29:33.258292Z"
        },
        "trusted": true,
        "id": "LEkAjK2HIrTP"
      },
      "execution_count": null,
      "outputs": []
    },
    {
      "cell_type": "code",
      "source": [
        "# convert review json file to txt file \n",
        "ex_data = open( './reviews_' + dataName + '.txt', \"w\")\n",
        "for line_dict in reviews_data:\n",
        "    user_id = line_dict[\"reviewerID\"] # extract review_id from each review in reviews_data list\n",
        "    item_id = line_dict[\"asin\"] # extract item_id from each review in reviews_data list\n",
        "    ui_num = len(ui_dict[user_id]) #lenght of the users for this item which gave review for\n",
        "    iu_num = len(iu_dict[item_id]) # lenght of  items for each user\n",
        "    if ui_num >= num_ui_link and iu_num >= num_iu_link: # check if they are greater or eual to numbers which we have mentioned before  in hyperparamter cell so we could get best performance for recommendation system before we insert to text file \n",
        "        ex_data.writelines(str(line_dict) + \"\\n\")\n",
        "        iu_dict[item_id].append(user_id)\n",
        "ex_data.close()"
      ],
      "metadata": {
        "execution": {
          "iopub.status.busy": "2022-10-23T14:29:33.261002Z",
          "iopub.execute_input": "2022-10-23T14:29:33.261539Z",
          "iopub.status.idle": "2022-10-23T14:29:39.019731Z",
          "shell.execute_reply.started": "2022-10-23T14:29:33.261460Z",
          "shell.execute_reply": "2022-10-23T14:29:39.018719Z"
        },
        "trusted": true,
        "id": "l9_AZ6DKIrTP"
      },
      "execution_count": null,
      "outputs": []
    },
    {
      "cell_type": "code",
      "source": [
        "# convert meta json file to txt file \n",
        "ex_data = open('./meta_' + dataName + '.txt', \"w\")\n",
        "for line_dict in meta_data:\n",
        "    item_id = line_dict[\"asin\"] # extract item_id from each review in reviews_data list\n",
        "    if item_id in iu_dict.keys():\n",
        "        iu_num = len(iu_dict[item_id])# lenght of  items for each user\n",
        "        if iu_num >= num_iu_link: # check if they are greater or eual to numbers which we have mentioned before  in hyperparamter cell so we could get best performance for recommendation system before we insert to text file \n",
        "            ex_data.writelines(str(line_dict) + \"\\n\")\n",
        "ex_data.close()"
      ],
      "metadata": {
        "execution": {
          "iopub.status.busy": "2022-10-23T14:29:39.021224Z",
          "iopub.execute_input": "2022-10-23T14:29:39.021635Z",
          "iopub.status.idle": "2022-10-23T14:29:52.108645Z",
          "shell.execute_reply.started": "2022-10-23T14:29:39.021594Z",
          "shell.execute_reply": "2022-10-23T14:29:52.107658Z"
        },
        "trusted": true,
        "id": "zJxxYK-yIrTP"
      },
      "execution_count": null,
      "outputs": []
    },
    {
      "cell_type": "code",
      "source": [
        "TaggededDocument = gensim.models.doc2vec.TaggedDocument #import  the pretrained model to turn the text to vector\n",
        "warnings.filterwarnings(action='ignore', category=UserWarning, module='gensim')\n",
        "\n",
        "\n",
        "# turn the txt file to vector >>  stage 1  in research paper\n",
        "class DoctoVec:\n",
        "    # turn dictionary data to list with counter\n",
        "    # give each paragraph an id_number (count)  and append in text file so we could identify each paragraph and be ready for vectoriztion \n",
        "    def get_data(dict_d):\n",
        "        x_train = []\n",
        "        count = 0\n",
        "        for (i, text) in dict_d.items():\n",
        "            word_list = text.split(' ')\n",
        "            l = len(word_list)\n",
        "            word_list[l - 1] = word_list[l - 1].strip()\n",
        "            document = TaggededDocument(word_list, tags=[i])\n",
        "            x_train.append(document)\n",
        "            count += 1\n",
        "        return x_train, count\n",
        "   \n",
        "    # train model to vector\n",
        "    def train(dataName, x_train, vector_size, epoch_num,kind):\n",
        "        model_dm = Doc2Vec(x_train, min_count=1, window=3, vector_size=vector_size, sample=1e-3, negative=5, workers=4)\n",
        "        model_dm.train(x_train, total_examples=model_dm.corpus_count, epochs=epoch_num) #train model to turn it to vectors using pretrained model\n",
        "        model_dm.save('./' + dataName + '_Model_'+ kind+\"_\"+ str(vector_size)) #saving model after we turn it to vector so we could use it in future\n",
        "        return model_dm\n",
        "\n",
        "    # save vectors\n",
        "    #saving the vector for any text we will give to our model \n",
        "    def saveVector(dataName, model_dm, v_size, count,kind):\n",
        "        out = open('./' + dataName + '.'+kind, \"w\", encoding='utf-8')\n",
        "        for num in range(0, count):\n",
        "            doc_vec = model_dm.docvecs[num]\n",
        "            vec_list = str(num) + \",\"\n",
        "            for i_doc in doc_vec:\n",
        "                vec_list = vec_list + str(i_doc) + \",\"\n",
        "            out.writelines(vec_list[:-1] + \"\\n\")\n",
        "        out.close()"
      ],
      "metadata": {
        "execution": {
          "iopub.status.busy": "2022-10-23T14:29:52.110104Z",
          "iopub.execute_input": "2022-10-23T14:29:52.110562Z",
          "iopub.status.idle": "2022-10-23T14:29:52.122206Z",
          "shell.execute_reply.started": "2022-10-23T14:29:52.110520Z",
          "shell.execute_reply": "2022-10-23T14:29:52.121252Z"
        },
        "trusted": true,
        "id": "T3zvKuK9IrTP"
      },
      "execution_count": null,
      "outputs": []
    },
    {
      "cell_type": "code",
      "source": [
        "# read review txt file\n",
        "reviews_data = []\n",
        "with open('./reviews_' + dataName + '.txt') as f:\n",
        "    for line in f:\n",
        "        line_dict = json.dumps(eval(line))\n",
        "        reviews_data.append(json.loads(line_dict))\n",
        "    f.close()\n",
        "    \n",
        "# give unique number for each product and for each user and append the in two different dictioary\n",
        "asin2itemNum = {}\n",
        "reviewerID2userNum = {}\n",
        "num = 1\n",
        "for ui in reviews_data:\n",
        "    if ui[\"asin\"] not in asin2itemNum:\n",
        "        asin2itemNum[ui[\"asin\"]] = num\n",
        "        num += 1\n",
        "num = 1\n",
        "for uu in reviews_data:\n",
        "    if uu[\"reviewerID\"] not in reviewerID2userNum:\n",
        "        reviewerID2userNum[uu[\"reviewerID\"]] = num\n",
        "        num += 1"
      ],
      "metadata": {
        "execution": {
          "iopub.status.busy": "2022-10-23T14:29:52.123520Z",
          "iopub.execute_input": "2022-10-23T14:29:52.124729Z",
          "iopub.status.idle": "2022-10-23T14:29:54.604368Z",
          "shell.execute_reply.started": "2022-10-23T14:29:52.124681Z",
          "shell.execute_reply": "2022-10-23T14:29:54.603388Z"
        },
        "trusted": true,
        "id": "Ra90kD7FIrTP"
      },
      "execution_count": null,
      "outputs": []
    },
    {
      "cell_type": "code",
      "source": [
        "#reviewerID2userNum"
      ],
      "metadata": {
        "execution": {
          "iopub.status.busy": "2022-10-23T14:29:54.605602Z",
          "iopub.execute_input": "2022-10-23T14:29:54.606246Z",
          "iopub.status.idle": "2022-10-23T14:29:54.610900Z",
          "shell.execute_reply.started": "2022-10-23T14:29:54.606204Z",
          "shell.execute_reply": "2022-10-23T14:29:54.609987Z"
        },
        "trusted": true,
        "id": "v1KbINLSIrTP"
      },
      "execution_count": null,
      "outputs": []
    },
    {
      "cell_type": "code",
      "source": [
        "# loading the dictionary of UserId_ItemID_Num\n",
        "def loading_metadata():\n",
        "    data = []\n",
        "    dict_d = {}\n",
        "    with open( './meta_' + dataName + '.txt') as f:\n",
        "        for line in f:\n",
        "            line_dict = json.dumps(eval(line))\n",
        "            data.append(json.loads(line_dict))\n",
        "        for d_item in data:\n",
        "            k = asin2itemNum.get(d_item[\"asin\"])\n",
        "            if \"description\" in d_item.keys():\n",
        "                dict_d[k] = d_item[\"description\"].replace(\"\\n\", \"\")\n",
        "            else:\n",
        "                dict_d[k] = \"\"\n",
        "        return dict_d"
      ],
      "metadata": {
        "execution": {
          "iopub.status.busy": "2022-10-23T14:29:54.612228Z",
          "iopub.execute_input": "2022-10-23T14:29:54.613136Z",
          "iopub.status.idle": "2022-10-23T14:29:54.623520Z",
          "shell.execute_reply.started": "2022-10-23T14:29:54.613093Z",
          "shell.execute_reply": "2022-10-23T14:29:54.622547Z"
        },
        "trusted": true,
        "id": "rnquBte4IrTQ"
      },
      "execution_count": null,
      "outputs": []
    },
    {
      "cell_type": "code",
      "source": [
        "# turn item text to a vedcor with size of 100  and save it\n",
        "dict_i = loading_metadata()\n",
        "x_train_item, count_item = DoctoVec.get_data(dict_i)\n",
        "model_dm = DoctoVec.train(dataName, x_train_item, vector_size, epoch_num,\"item\")\n",
        "DoctoVec.saveVector(dataName, model_dm, vector_size, count_item,\"item\")\n",
        "print(\"Item Vector Finished\")"
      ],
      "metadata": {
        "execution": {
          "iopub.status.busy": "2022-10-23T14:29:54.626587Z",
          "iopub.execute_input": "2022-10-23T14:29:54.627266Z",
          "iopub.status.idle": "2022-10-23T14:34:15.132828Z",
          "shell.execute_reply.started": "2022-10-23T14:29:54.627224Z",
          "shell.execute_reply": "2022-10-23T14:34:15.130798Z"
        },
        "trusted": true,
        "colab": {
          "base_uri": "https://localhost:8080/"
        },
        "id": "BjQaVqChIrTQ",
        "outputId": "69e36506-e616-4b5e-e3a4-56e2a01d1061"
      },
      "execution_count": null,
      "outputs": [
        {
          "output_type": "stream",
          "name": "stderr",
          "text": [
            "WARNING:gensim.models.base_any2vec:Effective 'alpha' higher than previous training cycles\n"
          ]
        },
        {
          "output_type": "stream",
          "name": "stdout",
          "text": [
            "Item Vector Finished\n"
          ]
        }
      ]
    },
    {
      "cell_type": "code",
      "source": [
        "def loading_reviewdata():\n",
        "    # loading the dictionary of UserId_ItemID_Num\n",
        "    data = []\n",
        "    dict_d = {}\n",
        "    with open('./reviews_' + dataName + '.txt') as f:\n",
        "        for line in f:\n",
        "            line_dict = json.dumps(eval(line))\n",
        "            data.append(json.loads(line_dict))\n",
        "        for d_item in data:\n",
        "            k = reviewerID2userNum.get(d_item[\"reviewerID\"])\n",
        "            #print(k)\n",
        "            if \"reviewText\" in d_item.keys():\n",
        "                dict_d[k] = d_item[\"reviewText\"].replace(\"\\n\", \"\")\n",
        "            else:\n",
        "                dict_d[k] = \"\"\n",
        "            #print(dict_d[k])\n",
        "        return dict_d\n"
      ],
      "metadata": {
        "execution": {
          "iopub.status.busy": "2022-10-23T14:34:15.134240Z",
          "iopub.execute_input": "2022-10-23T14:34:15.134625Z",
          "iopub.status.idle": "2022-10-23T14:34:15.142991Z",
          "shell.execute_reply.started": "2022-10-23T14:34:15.134586Z",
          "shell.execute_reply": "2022-10-23T14:34:15.141329Z"
        },
        "trusted": true,
        "id": "Qz2RlfcbIrTQ"
      },
      "execution_count": null,
      "outputs": []
    },
    {
      "cell_type": "markdown",
      "source": [
        "\n",
        "```\n",
        "#output example\n",
        "1\n",
        "I ended up with a variety of different brands of cotton flannel baby wipes.  These are good quality, just not my personal favorite.  However, if the colors really do it for you, go ahead and stock up on these, they're good.  And really, we're talking squares of flannel, it's not critical.  For what it's worth, I like BumGenius wipes best for absorbency - like wiping up spit-up.  They're thick and soft.  I like OsoCozy best for cleaning baby bums, because they're thin, the better to clean crevices with.  ALL the wipes I bought shrank a lot in the first wash (hot), so expect that.I avoided GroVia for being synthetic, but in retrospect that might have been the way to go.  I have all BumGenius 4.0 diapers, which shouldn't be washed with natural fibers.  Now I have to wash the cotton wipes with baby's clothes, rather than with the diapers, which isn't ideal.\n",
        "```"
      ],
      "metadata": {
        "id": "Zt4UnCHRIrTQ"
      }
    },
    {
      "cell_type": "code",
      "source": [
        "# turn review text to a vedcor with size of 100  and save it\n",
        "dict_u = loading_reviewdata()\n",
        "x_train_user, count_user = DoctoVec.get_data(dict_u)\n",
        "model_dm = DoctoVec.train(dataName, x_train_user, vector_size, epoch_num,\"user\")\n",
        "DoctoVec.saveVector(dataName, model_dm, vector_size, count_user,\"user\")\n",
        "print(\"User Vector Finished\")"
      ],
      "metadata": {
        "execution": {
          "iopub.status.busy": "2022-10-23T14:34:15.145786Z",
          "iopub.execute_input": "2022-10-23T14:34:15.146500Z",
          "iopub.status.idle": "2022-10-23T14:34:49.583801Z",
          "shell.execute_reply.started": "2022-10-23T14:34:15.146425Z",
          "shell.execute_reply": "2022-10-23T14:34:49.582917Z"
        },
        "trusted": true,
        "colab": {
          "base_uri": "https://localhost:8080/"
        },
        "id": "hEIgVtQEIrTQ",
        "outputId": "86cfb89d-7fa6-44ca-a6a6-0a947023be69"
      },
      "execution_count": null,
      "outputs": [
        {
          "output_type": "stream",
          "name": "stderr",
          "text": [
            "WARNING:gensim.models.base_any2vec:Effective 'alpha' higher than previous training cycles\n"
          ]
        },
        {
          "output_type": "stream",
          "name": "stdout",
          "text": [
            "User Vector Finished\n"
          ]
        }
      ]
    },
    {
      "cell_type": "markdown",
      "source": [
        "## User Rating Input"
      ],
      "metadata": {
        "id": "VnhPMOZZIrTQ"
      }
    },
    {
      "cell_type": "code",
      "source": [
        "#extract the rating for each review and assign them to the product_id with the review_id\n",
        "for d in reviews_data:\n",
        "    user_id = reviewerID2userNum.get(d[\"reviewerID\"])\n",
        "    item_id = asin2itemNum.get(d[\"asin\"])\n",
        "    if user_id not in ui_dict2:\n",
        "        ui_dict2[user_id] = list()\n",
        "        if int(user_id) > max_num_user: \n",
        "            max_num_user = int(user_id)\n",
        "    ui_dict2[user_id].append(item_id)\n",
        "    if item_id not in iu_dict2:\n",
        "        iu_dict2[item_id] = list()\n",
        "        if int(item_id) > max_num_item:\n",
        "            max_num_item = int(item_id)\n",
        "    iu_dict2[item_id].append(user_id)"
      ],
      "metadata": {
        "execution": {
          "iopub.status.busy": "2022-10-23T14:34:49.593770Z",
          "iopub.execute_input": "2022-10-23T14:34:49.602225Z",
          "iopub.status.idle": "2022-10-23T14:34:49.690868Z",
          "shell.execute_reply.started": "2022-10-23T14:34:49.602180Z",
          "shell.execute_reply": "2022-10-23T14:34:49.690000Z"
        },
        "trusted": true,
        "id": "jNpv-XFFIrTQ"
      },
      "execution_count": null,
      "outputs": []
    },
    {
      "cell_type": "code",
      "source": [
        "for l_d in reviews_data:\n",
        "    u_id = reviewerID2userNum.get(l_d[\"reviewerID\"])\n",
        "    len_ui_dict[u_id] = len(ui_dict2.get(u_id))\n",
        "print(\"max_num_user =  \" ,max_num_user)\n",
        "print(\"max_num_item = \",max_num_item)\n"
      ],
      "metadata": {
        "execution": {
          "iopub.status.busy": "2022-10-23T14:34:49.694803Z",
          "iopub.execute_input": "2022-10-23T14:34:49.696930Z",
          "iopub.status.idle": "2022-10-23T14:34:49.752010Z",
          "shell.execute_reply.started": "2022-10-23T14:34:49.696891Z",
          "shell.execute_reply": "2022-10-23T14:34:49.750033Z"
        },
        "trusted": true,
        "colab": {
          "base_uri": "https://localhost:8080/"
        },
        "id": "Li4-iTJNIrTQ",
        "outputId": "b1cdf3c6-7daf-48d5-cf6d-100caa9acda9"
      },
      "execution_count": null,
      "outputs": [
        {
          "output_type": "stream",
          "name": "stdout",
          "text": [
            "max_num_user =   1100\n",
            "max_num_item =  10458\n"
          ]
        }
      ]
    },
    {
      "cell_type": "code",
      "source": [
        "# reviews_train_data vs reviews_test_data\n",
        "#split our dataset to train and test for rating and append them to different lists\n",
        "num = 0\n",
        "for l_d in reviews_data:\n",
        "    if num % (split_ratio + 1) < split_ratio:\n",
        "        reviews_train_data.append(l_d)\n",
        "        num += 1\n",
        "    else:\n",
        "        reviews_test_data.append(l_d)\n",
        "        num += 1"
      ],
      "metadata": {
        "execution": {
          "iopub.status.busy": "2022-10-23T14:34:49.753273Z",
          "iopub.execute_input": "2022-10-23T14:34:49.753607Z",
          "iopub.status.idle": "2022-10-23T14:34:49.771799Z",
          "shell.execute_reply.started": "2022-10-23T14:34:49.753572Z",
          "shell.execute_reply": "2022-10-23T14:34:49.770860Z"
        },
        "trusted": true,
        "id": "YRLZSlM_IrTR"
      },
      "execution_count": null,
      "outputs": []
    },
    {
      "cell_type": "code",
      "source": [
        "# insert Rating in train file\n",
        "train_list = []\n",
        "train_data = open('./' + dataName + \".train.rating\", \"w\")\n",
        "for l_train in reviews_train_data:\n",
        "        user_id = reviewerID2userNum.get(l_train[\"reviewerID\"])\n",
        "        item_id = asin2itemNum.get(l_train[\"asin\"])\n",
        "        rating_score = int(l_train[\"overall\"])\n",
        "        str_line = str(user_id) + \"  \" + str(item_id) + \"  \" + str(rating_score)\n",
        "        train_data.writelines(str_line + \"\\n\")\n",
        "        train_list.append(str_line)\n",
        "train_data.close()\n",
        "print(\"Training Rating Finished\")"
      ],
      "metadata": {
        "execution": {
          "iopub.status.busy": "2022-10-23T14:34:49.773063Z",
          "iopub.execute_input": "2022-10-23T14:34:49.774019Z",
          "iopub.status.idle": "2022-10-23T14:34:49.893445Z",
          "shell.execute_reply.started": "2022-10-23T14:34:49.773982Z",
          "shell.execute_reply": "2022-10-23T14:34:49.892486Z"
        },
        "trusted": true,
        "colab": {
          "base_uri": "https://localhost:8080/"
        },
        "id": "a90Cmq7tIrTR",
        "outputId": "c101e228-54b6-4b4c-df70-96fb3b0ac697"
      },
      "execution_count": null,
      "outputs": [
        {
          "output_type": "stream",
          "name": "stdout",
          "text": [
            "Training Rating Finished\n"
          ]
        }
      ]
    },
    {
      "cell_type": "code",
      "source": [
        "train_list[:1]"
      ],
      "metadata": {
        "execution": {
          "iopub.status.busy": "2022-10-23T14:34:49.894635Z",
          "iopub.execute_input": "2022-10-23T14:34:49.895549Z",
          "iopub.status.idle": "2022-10-23T14:34:49.902182Z",
          "shell.execute_reply.started": "2022-10-23T14:34:49.895512Z",
          "shell.execute_reply": "2022-10-23T14:34:49.901232Z"
        },
        "trusted": true,
        "colab": {
          "base_uri": "https://localhost:8080/"
        },
        "id": "ZKy1M5s7IrTR",
        "outputId": "63a0256f-3413-4f3b-addd-068b1e43b9dd"
      },
      "execution_count": null,
      "outputs": [
        {
          "output_type": "execute_result",
          "data": {
            "text/plain": [
              "['1  1  4']"
            ]
          },
          "metadata": {},
          "execution_count": 39
        }
      ]
    },
    {
      "cell_type": "code",
      "source": [
        "# Insert Rating in test file\n",
        "test_list = []\n",
        "test_data = open('./'  + dataName + \".test.rating\", \"w\")\n",
        "for l_test in reviews_test_data:\n",
        "        user_id = reviewerID2userNum.get(l_test[\"reviewerID\"])\n",
        "        item_id = asin2itemNum.get(l_test[\"asin\"])\n",
        "        rating_score = int(l_test[\"overall\"])\n",
        "        str_line = str(user_id) + \"  \" + str(item_id) + \"  \" + str(rating_score)\n",
        "        test_data.writelines(str_line + \"\\n\")\n",
        "        test_list.append(str_line)\n",
        "test_data.close()\n",
        "print(\"Test Rating Finished\")"
      ],
      "metadata": {
        "execution": {
          "iopub.status.busy": "2022-10-23T14:34:49.903395Z",
          "iopub.execute_input": "2022-10-23T14:34:49.904208Z",
          "iopub.status.idle": "2022-10-23T14:34:49.944691Z",
          "shell.execute_reply.started": "2022-10-23T14:34:49.904173Z",
          "shell.execute_reply": "2022-10-23T14:34:49.943751Z"
        },
        "trusted": true,
        "colab": {
          "base_uri": "https://localhost:8080/"
        },
        "id": "mJCJ36CUIrTR",
        "outputId": "9c07d37c-1c60-4c3e-cda5-58ba8261430f"
      },
      "execution_count": null,
      "outputs": [
        {
          "output_type": "stream",
          "name": "stdout",
          "text": [
            "Test Rating Finished\n"
          ]
        }
      ]
    },
    {
      "cell_type": "code",
      "source": [
        "test_list[:1]"
      ],
      "metadata": {
        "execution": {
          "iopub.status.busy": "2022-10-23T14:34:49.946178Z",
          "iopub.execute_input": "2022-10-23T14:34:49.946547Z",
          "iopub.status.idle": "2022-10-23T14:34:49.952857Z",
          "shell.execute_reply.started": "2022-10-23T14:34:49.946510Z",
          "shell.execute_reply": "2022-10-23T14:34:49.951873Z"
        },
        "trusted": true,
        "colab": {
          "base_uri": "https://localhost:8080/"
        },
        "id": "pV5FPHXAIrTR",
        "outputId": "4624eec5-8e48-4a5c-c5bf-e196218a65cd"
      },
      "execution_count": null,
      "outputs": [
        {
          "output_type": "execute_result",
          "data": {
            "text/plain": [
              "['5  5  5']"
            ]
          },
          "metadata": {},
          "execution_count": 41
        }
      ]
    },
    {
      "cell_type": "code",
      "source": [
        "# Read .rating file and Return dok matrix (sparse matrix ).\n",
        "# The first line of .rating file is: num_users > num_items > rating \n",
        "def get_max_users_max_items(filename):\n",
        "    # Get number of users and items\n",
        "    num_users, num_items = 0, 0\n",
        "    with open(filename, \"r\") as f:\n",
        "            line = f.readline()\n",
        "            #print(line)\n",
        "            while line is not None and line != \"\":\n",
        "                arr = line.split(\"  \")\n",
        "                u, i = int(arr[0]), int(arr[1])\n",
        "                num_users = max(num_users, u)\n",
        "                num_items = max(num_items, i)\n",
        "                line = f.readline()\n",
        "                #print(line)\n",
        "                \n",
        "    return num_users , num_items\n"
      ],
      "metadata": {
        "execution": {
          "iopub.status.busy": "2022-10-23T14:34:49.954521Z",
          "iopub.execute_input": "2022-10-23T14:34:49.955170Z",
          "iopub.status.idle": "2022-10-23T14:34:49.963312Z",
          "shell.execute_reply.started": "2022-10-23T14:34:49.955135Z",
          "shell.execute_reply": "2022-10-23T14:34:49.962288Z"
        },
        "trusted": true,
        "id": "tw5t9IIXIrTR"
      },
      "execution_count": null,
      "outputs": []
    },
    {
      "cell_type": "code",
      "source": [
        "# Construct  sparse matrix with size of maxmuim of users and items\n",
        "def load_rating_file_as_matrix(filename):\n",
        "        num_users , num_items = get_max_users_max_items(filename)\n",
        "        #print(num_users , num_items)\n",
        "        mat = sp.dok_matrix((num_users + 1, num_items + 1), dtype=np.float32)\n",
        "        with open(filename, \"r\") as f:\n",
        "            line = f.readline()\n",
        "            while line is not None and line != \"\":\n",
        "                arr = line.split(\"  \")\n",
        "                user, item, rating = int(arr[0]), int(arr[1]), float(arr[2])\n",
        "                if rating > 0:\n",
        "                    mat[user, item] = rating\n",
        "                line = f.readline()\n",
        "        return mat"
      ],
      "metadata": {
        "execution": {
          "iopub.status.busy": "2022-10-23T14:34:49.964820Z",
          "iopub.execute_input": "2022-10-23T14:34:49.965185Z",
          "iopub.status.idle": "2022-10-23T14:34:49.978099Z",
          "shell.execute_reply.started": "2022-10-23T14:34:49.965152Z",
          "shell.execute_reply": "2022-10-23T14:34:49.977250Z"
        },
        "trusted": true,
        "id": "wBZYZHlGIrTS"
      },
      "execution_count": null,
      "outputs": []
    },
    {
      "cell_type": "markdown",
      "source": [
        "## Sparse Matrix : \n",
        "\n",
        "**A matrix is a two-dimensional data object made of m rows and n columns, therefore having total m x n values. If most of the elements of the matrix have 0 value, then it is called a sparse matrix.**\n",
        "\n",
        "![IMAGE](https://res.cloudinary.com/practicaldev/image/fetch/s--v5V9UbEm--/c_limit%2Cf_auto%2Cfl_progressive%2Cq_auto%2Cw_880/https://files.ai-pool.com/a/8ccc261ef0bb339e4f923b22ab06a42c.png)"
      ],
      "metadata": {
        "id": "HU7etM0QIrTS"
      }
    },
    {
      "cell_type": "code",
      "source": [
        "#display  test rating \n",
        "#mat = load_rating_file_as_matrix(\"./Baby.test.rating\")\n",
        "#print(mat)"
      ],
      "metadata": {
        "execution": {
          "iopub.status.busy": "2022-10-23T14:34:49.979672Z",
          "iopub.execute_input": "2022-10-23T14:34:49.980075Z",
          "iopub.status.idle": "2022-10-23T14:34:49.988480Z",
          "shell.execute_reply.started": "2022-10-23T14:34:49.980041Z",
          "shell.execute_reply": "2022-10-23T14:34:49.987508Z"
        },
        "trusted": true,
        "id": "UefzheGhIrTS"
      },
      "execution_count": null,
      "outputs": []
    },
    {
      "cell_type": "markdown",
      "source": [
        "```\n",
        " >>  output example\n",
        " (5, 5)\t5.0\n",
        "  (10, 5)\t5.0\n",
        "  (15, 5)\t5.0\n",
        "  (18, 8)\t5.0\n",
        "  (7, 13)\t3.0\n",
        "  (28, 13)\t4.0\n",
        "  (33, 13)\t5.0\n",
        "  (37, 15)\t3.0\n",
        "  (41, 17)\t5.0\n",
        "  (46, 17)\t4.0\n",
        "  (35, 18)\t5.0\n",
        "  (55, 18)\t1.0\n",
        "  (35, 19)\t5.0\n",
        "  (63, 22)\t2.0\n",
        "  (67, 23)\t4.0\n",
        "  (71, 23)\t4.0\n",
        "  (74, 26)\t5.0\n",
        "  (79, 29)\t2.0\n",
        "  (83, 31)\t5.0\n",
        "  .\n",
        "  .\n",
        "  .\n",
        "  .\n",
        "  .\n",
        "```"
      ],
      "metadata": {
        "id": "hIvnBRXyIrTS"
      }
    },
    {
      "cell_type": "code",
      "source": [
        "# get the  text vector for  user_review and item_description \n",
        "def load_review_feature(filename):\n",
        "        dict = {}\n",
        "        with open(filename, \"r\") as f:\n",
        "            line = f.readline()\n",
        "            while line is not None and line != \"\":\n",
        "                fea = line.strip('\\n').split(',')\n",
        "                index = int(fea[0])\n",
        "                if index not in dict:\n",
        "                    dict[index] = fea[1:]\n",
        "                line = f.readline()\n",
        "        return dict"
      ],
      "metadata": {
        "execution": {
          "iopub.status.busy": "2022-10-23T14:34:49.990155Z",
          "iopub.execute_input": "2022-10-23T14:34:49.990708Z",
          "iopub.status.idle": "2022-10-23T14:34:49.999803Z",
          "shell.execute_reply.started": "2022-10-23T14:34:49.990513Z",
          "shell.execute_reply": "2022-10-23T14:34:49.998684Z"
        },
        "trusted": true,
        "id": "HuDTBIviIrTS"
      },
      "execution_count": null,
      "outputs": []
    },
    {
      "cell_type": "code",
      "source": [
        "#display  user_review\n",
        "#dict = load_review_feature(\"./Baby.user\")\n",
        "#print(dict[0]) >>  you can change any number of user"
      ],
      "metadata": {
        "execution": {
          "iopub.status.busy": "2022-10-23T14:34:50.001566Z",
          "iopub.execute_input": "2022-10-23T14:34:50.002237Z",
          "iopub.status.idle": "2022-10-23T14:34:50.009330Z",
          "shell.execute_reply.started": "2022-10-23T14:34:50.002203Z",
          "shell.execute_reply": "2022-10-23T14:34:50.008204Z"
        },
        "trusted": true,
        "id": "wd4d8btrIrTS"
      },
      "execution_count": null,
      "outputs": []
    },
    {
      "cell_type": "markdown",
      "source": [
        "```\n",
        "['-0.0052308156', '-0.0059791277', '-0.009880755', '0.008552845', '0.003566115', '0.00026303052', '-0.009880628', '-0.00516665', '-0.009717963', '0.0020107795', '0.0028303098', '0.004643555', '-0.0042972756', '-0.0031457066', '-0.0030787874', '-0.008721917', '0.002172482', '0.009225621', '-0.009501867', '-0.0034580873', '-0.0037699104', '0.0026073814', '-0.0056915567', '0.0026206803', '0.0058025215', '-0.008106861', '-0.008329792', '-0.0099546695', '0.004933045', '-0.009122307', '0.0058419635', '0.0068002627', '-0.0065064', '-0.004519882', '-0.0012548614', '0.0016463208', '-0.0014813376', '-0.008542542', '-0.0036026144', '0.0017316246', '-0.0020569204', '-0.0072300434', '0.004184599', '-0.0085743405', '0.0027115368', '-0.0046137213', '0.00064542773', '-0.0020573472', '0.0054132272', '-0.008002572', '-0.002119851', '-9.581566e-05', '-0.0066387774', '-0.006526165', '-0.0019329595', '0.008803475', '-0.0012631703', '0.0035359787', '-0.005750313', '0.0088148145', '0.0029154683', '0.009279685', '0.004349854', '-0.004199569', '0.0022419048', '-0.0044124555', '0.0057769394', '0.001831522', '-0.002278762', '-0.0058811186', '-0.008027084', '-0.0008530736', '-0.008939364', '-0.009223635', '-0.0079399105', '0.0021690726', '-0.0065009403', '-0.0077883434', '0.0021311664', '0.0020526624', '0.008348355', '0.004667914', '-0.009410105', '-0.00033878087', '0.007854028', '0.0026714755', '0.0026803636', '-0.004883711', '0.0064671705', '0.0016488147', '-0.007602146', '0.006863971', '-0.009769399', '-0.008158595', '-0.004874165', '0.0099376775', '0.003113091', '-0.0020120381', '0.008895168', '0.0023512554']\n",
        "```"
      ],
      "metadata": {
        "id": "6kgMBuVDIrTS"
      }
    },
    {
      "cell_type": "code",
      "source": [
        "# get read all files we have saved in previous stage\n",
        "path = './' + dataName\n",
        "trainMatrix = load_rating_file_as_matrix(path + \".train.rating\")\n",
        "user_review_fea = load_review_feature(path + \".user\")\n",
        "item_review_fea = load_review_feature(path + \".item\")\n",
        "testRatings = load_rating_file_as_matrix(path + \".test.rating\")\n",
        "num_users,num_items = trainMatrix.shape\n"
      ],
      "metadata": {
        "execution": {
          "iopub.status.busy": "2022-10-23T14:34:50.010354Z",
          "iopub.execute_input": "2022-10-23T14:34:50.010595Z",
          "iopub.status.idle": "2022-10-23T14:34:50.572052Z",
          "shell.execute_reply.started": "2022-10-23T14:34:50.010573Z",
          "shell.execute_reply": "2022-10-23T14:34:50.570922Z"
        },
        "trusted": true,
        "id": "A09AAhasIrTS"
      },
      "execution_count": null,
      "outputs": []
    },
    {
      "cell_type": "code",
      "source": [
        "num_users,num_items"
      ],
      "metadata": {
        "execution": {
          "iopub.status.busy": "2022-10-23T14:34:50.573471Z",
          "iopub.execute_input": "2022-10-23T14:34:50.573840Z",
          "iopub.status.idle": "2022-10-23T14:34:50.582640Z",
          "shell.execute_reply.started": "2022-10-23T14:34:50.573802Z",
          "shell.execute_reply": "2022-10-23T14:34:50.581465Z"
        },
        "trusted": true,
        "colab": {
          "base_uri": "https://localhost:8080/"
        },
        "id": "-mI97jRaIrTS",
        "outputId": "f85de764-2cc0-48ad-d582-ea793c0bcbed"
      },
      "execution_count": null,
      "outputs": [
        {
          "output_type": "execute_result",
          "data": {
            "text/plain": [
              "(1101, 10459)"
            ]
          },
          "metadata": {},
          "execution_count": 48
        }
      ]
    },
    {
      "cell_type": "markdown",
      "source": [
        "## Build Model"
      ],
      "metadata": {
        "id": "DQ5rASrHIrTS"
      }
    },
    {
      "cell_type": "code",
      "source": [
        "#build model\n",
        "#Intiliaze the model input\n",
        "user_input = Input(shape=(1,), dtype='int32', name='user_input')\n",
        "user_sent = Input(shape=(vector_size,), dtype='float32', name='user_sentiment')\n",
        "item_input = Input(shape=(1,), dtype='int32', name='item_input')\n",
        "item_cont = Input(shape=(vector_size,), dtype='float32', name='item_content')\n",
        "\n",
        "#Embedding layer for user\n",
        "Embedding_User = Embedding(input_dim=num_users,\n",
        "                               input_length=1,\n",
        "                               output_dim=vector_size,\n",
        "                               name='user_embedding')\n",
        "\n",
        "#Embedding layer for item\n",
        "Embedding_Item = Embedding(input_dim=num_items,\n",
        "                               input_length=1,\n",
        "                               output_dim=vector_size,\n",
        "                               name='item_embedding')\n",
        "\n"
      ],
      "metadata": {
        "execution": {
          "iopub.status.busy": "2022-10-23T14:34:50.584437Z",
          "iopub.execute_input": "2022-10-23T14:34:50.585046Z",
          "iopub.status.idle": "2022-10-23T14:34:50.624440Z",
          "shell.execute_reply.started": "2022-10-23T14:34:50.585011Z",
          "shell.execute_reply": "2022-10-23T14:34:50.623608Z"
        },
        "trusted": true,
        "id": "mkb-BxfkIrTT"
      },
      "execution_count": null,
      "outputs": []
    },
    {
      "cell_type": "code",
      "source": [
        "# User Sentiment Dense Network\n",
        "def user_Sentiment(user_latent, user_sent):\n",
        "    latent_size = user_latent.shape[1]\n",
        "    inputs = user_sent\n",
        "    layer = Dense(latent_size,activation='relu',name='user_attention_layer')(inputs)\n",
        "    sent = Lambda(lambda x: K.softmax(x), name='user_Sentiment_softmax')(layer)\n",
        "    output = Multiply()([user_latent, sent])\n",
        "    return output"
      ],
      "metadata": {
        "execution": {
          "iopub.status.busy": "2022-10-23T14:34:50.626692Z",
          "iopub.execute_input": "2022-10-23T14:34:50.627343Z",
          "iopub.status.idle": "2022-10-23T14:34:50.633505Z",
          "shell.execute_reply.started": "2022-10-23T14:34:50.627307Z",
          "shell.execute_reply": "2022-10-23T14:34:50.632519Z"
        },
        "trusted": true,
        "id": "Ut30AKSQIrTT"
      },
      "execution_count": null,
      "outputs": []
    },
    {
      "cell_type": "code",
      "source": [
        "# Item Content Dense Network\n",
        "def item_Content(item_latent, item_cont):\n",
        "    latent_size = item_latent.shape[1]\n",
        "    inputs = item_cont\n",
        "    layer = Dense(latent_size,activation='relu',name='item_attention_layer')(inputs)\n",
        "    cont = Lambda(lambda x: K.softmax(x), name='item_Content_softmax')(layer)\n",
        "    output = Multiply()([item_latent, cont])\n",
        "    return output"
      ],
      "metadata": {
        "execution": {
          "iopub.status.busy": "2022-10-23T14:34:50.636831Z",
          "iopub.execute_input": "2022-10-23T14:34:50.637094Z",
          "iopub.status.idle": "2022-10-23T14:34:50.645536Z",
          "shell.execute_reply.started": "2022-10-23T14:34:50.637070Z",
          "shell.execute_reply": "2022-10-23T14:34:50.644470Z"
        },
        "trusted": true,
        "id": "Gef82x0KIrTT"
      },
      "execution_count": null,
      "outputs": []
    },
    {
      "cell_type": "code",
      "source": [
        "# Crucial to flatten an embedding vector\n",
        "user_latent = Reshape((vector_size,))(Flatten()(Embedding_User(user_input)))\n",
        "item_latent = Reshape((vector_size,))(Flatten()(Embedding_Item(item_input)))\n",
        "user_latent_atten = user_Sentiment(user_latent, user_sent)\n",
        "item_latent_atten = item_Content(item_latent, item_cont)\n",
        "\n",
        "user_latent = Dense(vector_size, activation='relu')(user_latent_atten)\n",
        "item_latent = Dense(vector_size, activation='relu')(item_latent_atten)"
      ],
      "metadata": {
        "execution": {
          "iopub.status.busy": "2022-10-23T14:34:50.648884Z",
          "iopub.execute_input": "2022-10-23T14:34:50.649185Z",
          "iopub.status.idle": "2022-10-23T14:34:53.369010Z",
          "shell.execute_reply.started": "2022-10-23T14:34:50.649160Z",
          "shell.execute_reply": "2022-10-23T14:34:53.367611Z"
        },
        "trusted": true,
        "id": "n0osT2moIrTT"
      },
      "execution_count": null,
      "outputs": []
    },
    {
      "cell_type": "code",
      "source": [
        "# review-based attention calculation\n",
        "vec = Multiply()([user_latent, item_latent])\n",
        "user_item_concat = Concatenate()([user_sent, item_cont, user_latent, item_latent])\n",
        "att = Dense(vector_size, kernel_initializer='random_uniform', activation='softmax')(user_item_concat)\n",
        "\n",
        "# Element-wise product of user and item embeddings \n",
        "predict_vec = Multiply()([vec, att])\n",
        "# Final prediction layer\n",
        "prediction = Dense(vector_size, activation='relu')(predict_vec)\n",
        "#for overfitting\n",
        "prediction = Dropout(0.5)(prediction)\n",
        "prediction = Dense(1 ,name='prediction')(prediction)\n",
        "\n",
        "model = Model(inputs=[user_input, user_sent, item_input, item_cont], outputs=prediction)\n"
      ],
      "metadata": {
        "execution": {
          "iopub.status.busy": "2022-10-23T14:34:53.370378Z",
          "iopub.execute_input": "2022-10-23T14:34:53.370823Z",
          "iopub.status.idle": "2022-10-23T14:34:53.413033Z",
          "shell.execute_reply.started": "2022-10-23T14:34:53.370785Z",
          "shell.execute_reply": "2022-10-23T14:34:53.412189Z"
        },
        "trusted": true,
        "id": "gcqHXVKTIrTT"
      },
      "execution_count": null,
      "outputs": []
    },
    {
      "cell_type": "code",
      "source": [
        "model.summary()"
      ],
      "metadata": {
        "execution": {
          "iopub.status.busy": "2022-10-23T14:34:53.414885Z",
          "iopub.execute_input": "2022-10-23T14:34:53.415523Z",
          "iopub.status.idle": "2022-10-23T14:34:53.423553Z",
          "shell.execute_reply.started": "2022-10-23T14:34:53.415488Z",
          "shell.execute_reply": "2022-10-23T14:34:53.422343Z"
        },
        "trusted": true,
        "colab": {
          "base_uri": "https://localhost:8080/"
        },
        "id": "RfiW24PxIrTT",
        "outputId": "2dc916f4-464b-4f5e-a6f3-58558cfec301"
      },
      "execution_count": null,
      "outputs": [
        {
          "output_type": "stream",
          "name": "stdout",
          "text": [
            "Model: \"model\"\n",
            "__________________________________________________________________________________________________\n",
            " Layer (type)                   Output Shape         Param #     Connected to                     \n",
            "==================================================================================================\n",
            " user_input (InputLayer)        [(None, 1)]          0           []                               \n",
            "                                                                                                  \n",
            " item_input (InputLayer)        [(None, 1)]          0           []                               \n",
            "                                                                                                  \n",
            " user_embedding (Embedding)     (None, 1, 100)       110100      ['user_input[0][0]']             \n",
            "                                                                                                  \n",
            " user_sentiment (InputLayer)    [(None, 100)]        0           []                               \n",
            "                                                                                                  \n",
            " item_embedding (Embedding)     (None, 1, 100)       1045900     ['item_input[0][0]']             \n",
            "                                                                                                  \n",
            " item_content (InputLayer)      [(None, 100)]        0           []                               \n",
            "                                                                                                  \n",
            " flatten (Flatten)              (None, 100)          0           ['user_embedding[0][0]']         \n",
            "                                                                                                  \n",
            " user_attention_layer (Dense)   (None, 100)          10100       ['user_sentiment[0][0]']         \n",
            "                                                                                                  \n",
            " flatten_1 (Flatten)            (None, 100)          0           ['item_embedding[0][0]']         \n",
            "                                                                                                  \n",
            " item_attention_layer (Dense)   (None, 100)          10100       ['item_content[0][0]']           \n",
            "                                                                                                  \n",
            " reshape (Reshape)              (None, 100)          0           ['flatten[0][0]']                \n",
            "                                                                                                  \n",
            " user_Sentiment_softmax (Lambda  (None, 100)         0           ['user_attention_layer[0][0]']   \n",
            " )                                                                                                \n",
            "                                                                                                  \n",
            " reshape_1 (Reshape)            (None, 100)          0           ['flatten_1[0][0]']              \n",
            "                                                                                                  \n",
            " item_Content_softmax (Lambda)  (None, 100)          0           ['item_attention_layer[0][0]']   \n",
            "                                                                                                  \n",
            " multiply (Multiply)            (None, 100)          0           ['reshape[0][0]',                \n",
            "                                                                  'user_Sentiment_softmax[0][0]'] \n",
            "                                                                                                  \n",
            " multiply_1 (Multiply)          (None, 100)          0           ['reshape_1[0][0]',              \n",
            "                                                                  'item_Content_softmax[0][0]']   \n",
            "                                                                                                  \n",
            " dense (Dense)                  (None, 100)          10100       ['multiply[0][0]']               \n",
            "                                                                                                  \n",
            " dense_1 (Dense)                (None, 100)          10100       ['multiply_1[0][0]']             \n",
            "                                                                                                  \n",
            " concatenate (Concatenate)      (None, 400)          0           ['user_sentiment[0][0]',         \n",
            "                                                                  'item_content[0][0]',           \n",
            "                                                                  'dense[0][0]',                  \n",
            "                                                                  'dense_1[0][0]']                \n",
            "                                                                                                  \n",
            " multiply_2 (Multiply)          (None, 100)          0           ['dense[0][0]',                  \n",
            "                                                                  'dense_1[0][0]']                \n",
            "                                                                                                  \n",
            " dense_2 (Dense)                (None, 100)          40100       ['concatenate[0][0]']            \n",
            "                                                                                                  \n",
            " multiply_3 (Multiply)          (None, 100)          0           ['multiply_2[0][0]',             \n",
            "                                                                  'dense_2[0][0]']                \n",
            "                                                                                                  \n",
            " dense_3 (Dense)                (None, 100)          10100       ['multiply_3[0][0]']             \n",
            "                                                                                                  \n",
            " dropout (Dropout)              (None, 100)          0           ['dense_3[0][0]']                \n",
            "                                                                                                  \n",
            " prediction (Dense)             (None, 1)            101         ['dropout[0][0]']                \n",
            "                                                                                                  \n",
            "==================================================================================================\n",
            "Total params: 1,246,701\n",
            "Trainable params: 1,246,701\n",
            "Non-trainable params: 0\n",
            "__________________________________________________________________________________________________\n"
          ]
        }
      ]
    },
    {
      "cell_type": "code",
      "source": [
        "#compile our model\n",
        "model.compile(optimizer=\"adam\", loss=\"mean_absolute_error\", metrics=['mean_squared_error'])"
      ],
      "metadata": {
        "execution": {
          "iopub.status.busy": "2022-10-23T14:34:53.425188Z",
          "iopub.execute_input": "2022-10-23T14:34:53.425524Z",
          "iopub.status.idle": "2022-10-23T14:34:53.442399Z",
          "shell.execute_reply.started": "2022-10-23T14:34:53.425490Z",
          "shell.execute_reply": "2022-10-23T14:34:53.441389Z"
        },
        "trusted": true,
        "id": "1uaTsmCQIrTT"
      },
      "execution_count": null,
      "outputs": []
    },
    {
      "cell_type": "code",
      "source": [
        "#using callbacks to avoid overfitting and save best model during training\n",
        "earlystopping = EarlyStopping(monitor='val_loss', patience=5 )\n",
        "checkpoint = ModelCheckpoint('model.h5', save_best_only=True, monitor='val_loss', mode='min')\n"
      ],
      "metadata": {
        "execution": {
          "iopub.status.busy": "2022-10-23T14:34:53.445343Z",
          "iopub.execute_input": "2022-10-23T14:34:53.445598Z",
          "iopub.status.idle": "2022-10-23T14:34:53.452810Z",
          "shell.execute_reply.started": "2022-10-23T14:34:53.445569Z",
          "shell.execute_reply": "2022-10-23T14:34:53.451872Z"
        },
        "trusted": true,
        "id": "dkZfqrgJIrTT"
      },
      "execution_count": null,
      "outputs": []
    },
    {
      "cell_type": "code",
      "source": [
        "# Make the data ready fro training \n",
        "#convert it to numpy array as we extract the labels\n",
        "def get_instances(trainMatrix, user_review_fea, item_review_fea):\n",
        "    user_input, user_fea, item_input, item_fea, labels = [], [], [], [], []\n",
        "    num_users = trainMatrix.shape[0]\n",
        "    for (u, i) in trainMatrix.keys():\n",
        "        if u in user_review_fea.keys() and i in item_review_fea.keys():\n",
        "            user_input.append(u)\n",
        "            user_fea.append(user_review_fea[u])\n",
        "            item_input.append(i)\n",
        "            item_fea.append(item_review_fea[i])\n",
        "            label = trainMatrix[u, i]\n",
        "            labels.append(label)\n",
        "    return np.array(user_input), np.array(user_fea, dtype='float32'), np.array(item_input),np.array(item_fea, dtype='float32'), np.array(labels)"
      ],
      "metadata": {
        "execution": {
          "iopub.status.busy": "2022-10-23T14:34:53.454371Z",
          "iopub.execute_input": "2022-10-23T14:34:53.454784Z",
          "iopub.status.idle": "2022-10-23T14:34:53.464397Z",
          "shell.execute_reply.started": "2022-10-23T14:34:53.454750Z",
          "shell.execute_reply": "2022-10-23T14:34:53.463320Z"
        },
        "trusted": true,
        "id": "3583bX80IrTT"
      },
      "execution_count": null,
      "outputs": []
    },
    {
      "cell_type": "code",
      "source": [
        "#print(len(user_input))\n",
        "#print(len(user_fea))\n",
        "#print(len(item_input))\n",
        "#print(len(item_fea))\n",
        "#print(len(labels))"
      ],
      "metadata": {
        "execution": {
          "iopub.status.busy": "2022-10-23T14:34:53.465590Z",
          "iopub.execute_input": "2022-10-23T14:34:53.466231Z",
          "iopub.status.idle": "2022-10-23T14:34:53.477980Z",
          "shell.execute_reply.started": "2022-10-23T14:34:53.466196Z",
          "shell.execute_reply": "2022-10-23T14:34:53.476966Z"
        },
        "trusted": true,
        "id": "4FLf135BIrTU"
      },
      "execution_count": null,
      "outputs": []
    },
    {
      "cell_type": "code",
      "source": [
        "#get instance of training dataset for train the moodel\n",
        "user_input, user_fea, item_input, item_fea, labels = get_instances(trainMatrix, user_review_fea, item_review_fea)\n"
      ],
      "metadata": {
        "execution": {
          "iopub.status.busy": "2022-10-23T14:34:53.479532Z",
          "iopub.execute_input": "2022-10-23T14:34:53.480256Z",
          "iopub.status.idle": "2022-10-23T14:34:54.413970Z",
          "shell.execute_reply.started": "2022-10-23T14:34:53.480220Z",
          "shell.execute_reply": "2022-10-23T14:34:54.412998Z"
        },
        "trusted": true,
        "id": "cY8UotnnIrTU"
      },
      "execution_count": null,
      "outputs": []
    },
    {
      "cell_type": "code",
      "source": [
        "#fit our model\n",
        "hist = model.fit([user_input, user_fea, item_input, item_fea],labels,batch_size=256, epochs=10,validation_split =0.2 ,verbose=0 , callbacks = [earlystopping,checkpoint])"
      ],
      "metadata": {
        "execution": {
          "iopub.status.busy": "2022-10-23T14:42:35.055530Z",
          "iopub.execute_input": "2022-10-23T14:42:35.055906Z",
          "iopub.status.idle": "2022-10-23T14:42:38.846993Z",
          "shell.execute_reply.started": "2022-10-23T14:42:35.055872Z",
          "shell.execute_reply": "2022-10-23T14:42:38.846012Z"
        },
        "trusted": true,
        "id": "swJCzRh7IrTU"
      },
      "execution_count": null,
      "outputs": []
    },
    {
      "cell_type": "code",
      "source": [
        "#model.save(\"model.h5\")"
      ],
      "metadata": {
        "execution": {
          "iopub.status.busy": "2022-10-23T14:35:05.763904Z",
          "iopub.execute_input": "2022-10-23T14:35:05.764247Z",
          "iopub.status.idle": "2022-10-23T14:35:05.768729Z",
          "shell.execute_reply.started": "2022-10-23T14:35:05.764218Z",
          "shell.execute_reply": "2022-10-23T14:35:05.767704Z"
        },
        "trusted": true,
        "id": "fr_vZbxfIrTU"
      },
      "execution_count": null,
      "outputs": []
    },
    {
      "cell_type": "code",
      "source": [
        "# Draw the progress during the training\n",
        "loss = hist.history['loss']\n",
        "val_loss = hist.history['val_loss']\n",
        "epochs = range(1, len(loss) + 1)\n",
        "#loss plot\n",
        "plt.plot(epochs, loss, color='pink', label='Training Loss')\n",
        "plt.plot(epochs, val_loss, color='red', label='Validation Loss')\n",
        "plt.title('Training and Validation Loss')\n",
        "plt.xlabel('Epoch')\n",
        "plt.ylabel('Loss')\n",
        "plt.legend()\n",
        "\n",
        "plt.show()"
      ],
      "metadata": {
        "execution": {
          "iopub.status.busy": "2022-10-23T14:35:05.770172Z",
          "iopub.execute_input": "2022-10-23T14:35:05.770764Z",
          "iopub.status.idle": "2022-10-23T14:35:06.005876Z",
          "shell.execute_reply.started": "2022-10-23T14:35:05.770726Z",
          "shell.execute_reply": "2022-10-23T14:35:06.004971Z"
        },
        "trusted": true,
        "colab": {
          "base_uri": "https://localhost:8080/",
          "height": 295
        },
        "id": "EUFgNE9IIrTU",
        "outputId": "71aaaed6-db1f-414e-a010-7a4ead7dd8b4"
      },
      "execution_count": null,
      "outputs": [
        {
          "output_type": "display_data",
          "data": {
            "text/plain": [
              "<Figure size 432x288 with 1 Axes>"
            ],
            "image/png": "[encoded data removed]"
          },
          "metadata": {
            "needs_background": "light"
          }
        }
      ]
    },
    {
      "cell_type": "code",
      "source": [
        "# get instance for testing data\n",
        "user_input_test, user_fea_test, item_input_test, item_fea_test, test_label = get_instances(testRatings, user_review_fea, item_review_fea)\n"
      ],
      "metadata": {
        "execution": {
          "iopub.status.busy": "2022-10-23T14:35:06.007154Z",
          "iopub.execute_input": "2022-10-23T14:35:06.007904Z",
          "iopub.status.idle": "2022-10-23T14:35:06.256339Z",
          "shell.execute_reply.started": "2022-10-23T14:35:06.007867Z",
          "shell.execute_reply": "2022-10-23T14:35:06.255398Z"
        },
        "trusted": true,
        "id": "20znCZxYIrTU"
      },
      "execution_count": null,
      "outputs": []
    },
    {
      "cell_type": "code",
      "source": [
        "#evulate the test dataset\n",
        "mean_absolute_error(model.predict([user_input_test, user_fea_test, item_input_test, item_fea_test]),test_label)"
      ],
      "metadata": {
        "execution": {
          "iopub.status.busy": "2022-10-23T14:42:38.848876Z",
          "iopub.execute_input": "2022-10-23T14:42:38.849261Z",
          "iopub.status.idle": "2022-10-23T14:42:39.205784Z",
          "shell.execute_reply.started": "2022-10-23T14:42:38.849226Z",
          "shell.execute_reply": "2022-10-23T14:42:39.204753Z"
        },
        "trusted": true,
        "colab": {
          "base_uri": "https://localhost:8080/"
        },
        "id": "r2qUEwKIIrTU",
        "outputId": "6898b515-ffae-48f9-ce10-ea965dea9ee0"
      },
      "execution_count": null,
      "outputs": [
        {
          "output_type": "stream",
          "name": "stdout",
          "text": [
            "201/201 [==============================] - 1s 2ms/step\n"
          ]
        },
        {
          "output_type": "execute_result",
          "data": {
            "text/plain": [
              "0.8263648"
            ]
          },
          "metadata": {},
          "execution_count": 64
        }
      ]
    },
    {
      "cell_type": "code",
      "source": [
        "mse=mean_squared_error(model.predict([user_input_test, user_fea_test, item_input_test, item_fea_test]),test_label)"
      ],
      "metadata": {
        "execution": {
          "iopub.status.busy": "2022-10-23T14:42:42.045811Z",
          "iopub.execute_input": "2022-10-23T14:42:42.046849Z",
          "iopub.status.idle": "2022-10-23T14:42:42.724911Z",
          "shell.execute_reply.started": "2022-10-23T14:42:42.046797Z",
          "shell.execute_reply": "2022-10-23T14:42:42.723894Z"
        },
        "trusted": true,
        "colab": {
          "base_uri": "https://localhost:8080/"
        },
        "id": "q_7EIpuUIrTU",
        "outputId": "1d2d00f8-2f12-44fd-a028-e9f845adbe34"
      },
      "execution_count": null,
      "outputs": [
        {
          "output_type": "stream",
          "name": "stdout",
          "text": [
            "201/201 [==============================] - 0s 2ms/step\n"
          ]
        }
      ]
    },
    {
      "cell_type": "code",
      "source": [
        "print(mse)"
      ],
      "metadata": {
        "colab": {
          "base_uri": "https://localhost:8080/"
        },
        "id": "yrqFiS488NRV",
        "outputId": "3b73331a-6874-44b2-b228-d1f584c9d124"
      },
      "execution_count": null,
      "outputs": [
        {
          "output_type": "stream",
          "name": "stdout",
          "text": [
            "1.1724701\n"
          ]
        }
      ]
    },
    {
      "cell_type": "code",
      "source": [
        "rmse = math.sqrt(mse)"
      ],
      "metadata": {
        "id": "btG6a6JS7HYE"
      },
      "execution_count": null,
      "outputs": []
    },
    {
      "cell_type": "code",
      "source": [
        "print(rmse)"
      ],
      "metadata": {
        "colab": {
          "base_uri": "https://localhost:8080/"
        },
        "id": "IcWV8Z6V8YiN",
        "outputId": "9b76dbfc-2d20-4b35-f248-61c749020488"
      },
      "execution_count": null,
      "outputs": [
        {
          "output_type": "stream",
          "name": "stdout",
          "text": [
            "1.0828065814232186\n"
          ]
        }
      ]
    },
    {
      "cell_type": "code",
      "source": [
        "prediction = model.predict([user_input_test, user_fea_test, item_input_test, item_fea_test])"
      ],
      "metadata": {
        "execution": {
          "iopub.status.busy": "2022-10-23T14:42:44.408289Z",
          "iopub.execute_input": "2022-10-23T14:42:44.408653Z",
          "iopub.status.idle": "2022-10-23T14:42:44.744289Z",
          "shell.execute_reply.started": "2022-10-23T14:42:44.408620Z",
          "shell.execute_reply": "2022-10-23T14:42:44.743344Z"
        },
        "trusted": true,
        "colab": {
          "base_uri": "https://localhost:8080/"
        },
        "id": "HqcdxnFeIrTU",
        "outputId": "b7bcb227-e691-4a8a-b985-65159dafab98"
      },
      "execution_count": null,
      "outputs": [
        {
          "output_type": "stream",
          "name": "stdout",
          "text": [
            "201/201 [==============================] - 0s 2ms/step\n"
          ]
        }
      ]
    },
    {
      "cell_type": "code",
      "source": [
        "dis = {1:0,2:0,3:0,4:0,5:0}\n",
        "for i in  prediction.tolist() :\n",
        "    if round(i[0]) in dis :\n",
        "        dis[round(i[0])] +=1\n",
        "    else :\n",
        "        dis[1] +=1 \n",
        "print(dis)\n",
        "for i in range(1,6):\n",
        "    dis[i]/=len(prediction)\n",
        "print(dis)"
      ],
      "metadata": {
        "execution": {
          "iopub.status.busy": "2022-10-23T14:42:45.090154Z",
          "iopub.execute_input": "2022-10-23T14:42:45.090758Z",
          "iopub.status.idle": "2022-10-23T14:42:45.109836Z",
          "shell.execute_reply.started": "2022-10-23T14:42:45.090724Z",
          "shell.execute_reply": "2022-10-23T14:42:45.108880Z"
        },
        "trusted": true,
        "colab": {
          "base_uri": "https://localhost:8080/"
        },
        "id": "_tVDlAQIIrTU",
        "outputId": "fe6e4b23-67e2-4578-f885-2b8363bcfd28"
      },
      "execution_count": null,
      "outputs": [
        {
          "output_type": "stream",
          "name": "stdout",
          "text": [
            "{1: 13, 2: 0, 3: 365, 4: 4454, 5: 1592}\n",
            "{1: 0.0020236612702366126, 2: 0.0, 3: 0.056818181818181816, 4: 0.6933374844333748, 5: 0.24782067247820672}\n"
          ]
        }
      ]
    },
    {
      "cell_type": "code",
      "source": [
        "label = {}\n",
        "for i in test_label :\n",
        "    if i in  label :\n",
        "        label[i] += 1\n",
        "    else :\n",
        "        label[i] = 1 \n",
        "for i in range(1,6):\n",
        "    label[i]/=len(test_label)\n",
        "print(label)"
      ],
      "metadata": {
        "execution": {
          "iopub.status.busy": "2022-10-23T14:38:27.417161Z",
          "iopub.execute_input": "2022-10-23T14:38:27.417518Z",
          "iopub.status.idle": "2022-10-23T14:38:27.426571Z",
          "shell.execute_reply.started": "2022-10-23T14:38:27.417486Z",
          "shell.execute_reply": "2022-10-23T14:38:27.425332Z"
        },
        "trusted": true,
        "colab": {
          "base_uri": "https://localhost:8080/"
        },
        "id": "R1_k0iF0IrTV",
        "outputId": "cc2320ce-7acf-41c3-a939-71c41980467c"
      },
      "execution_count": null,
      "outputs": [
        {
          "output_type": "stream",
          "name": "stdout",
          "text": [
            "{5.0: 0.5541718555417185, 3.0: 0.11674968866749688, 4.0: 0.23100871731008718, 1.0: 0.04389788293897883, 2.0: 0.05417185554171856}\n"
          ]
        }
      ]
    },
    {
      "cell_type": "code",
      "source": [
        "plot =  {}\n",
        "for i,j in  label.items() : \n",
        "    if i not in plot :\n",
        "        plot[i] = [j]\n",
        "    else :\n",
        "        plto[i].append(j)\n",
        "for i,j in dis.items() :\n",
        "    plot[i].append(j)\n",
        "plot = dict(sorted(plot.items() , key = lambda x:x[0]))"
      ],
      "metadata": {
        "execution": {
          "iopub.status.busy": "2022-10-23T14:59:58.253454Z",
          "iopub.execute_input": "2022-10-23T14:59:58.254033Z",
          "iopub.status.idle": "2022-10-23T14:59:58.265846Z",
          "shell.execute_reply.started": "2022-10-23T14:59:58.253988Z",
          "shell.execute_reply": "2022-10-23T14:59:58.264777Z"
        },
        "trusted": true,
        "id": "BxanghXdIrTV"
      },
      "execution_count": null,
      "outputs": []
    },
    {
      "cell_type": "code",
      "source": [
        "frame  =  pd.DataFrame(plot , index = {\"predicted\",\"real\"})\n",
        "frame.plot(kind=\"bar\",figsize=(15, 8))"
      ],
      "metadata": {
        "execution": {
          "iopub.status.busy": "2022-10-23T15:00:00.497920Z",
          "iopub.execute_input": "2022-10-23T15:00:00.498655Z",
          "iopub.status.idle": "2022-10-23T15:00:00.752901Z",
          "shell.execute_reply.started": "2022-10-23T15:00:00.498616Z",
          "shell.execute_reply": "2022-10-23T15:00:00.751982Z"
        },
        "trusted": true,
        "colab": {
          "base_uri": "https://localhost:8080/",
          "height": 538
        },
        "id": "thFhjW0uIrTV",
        "outputId": "e32d554a-71a7-4dab-b9d9-b2e80235966d"
      },
      "execution_count": null,
      "outputs": [
        {
          "output_type": "execute_result",
          "data": {
            "text/plain": [
              "<matplotlib.axes._subplots.AxesSubplot at 0x7fe1ea2d1700>"
            ]
          },
          "metadata": {},
          "execution_count": 73
        },
        {
          "output_type": "display_data",
          "data": {
            "text/plain": [
              "<Figure size 1080x576 with 1 Axes>"
            ],
            "image/png": "[encoded data removed]"
          },
          "metadata": {
            "needs_background": "light"
          }
        }
      ]
    },
    {
      "cell_type": "code",
      "source": [],
      "metadata": {
        "id": "kLudJeJvIrTV"
      },
      "execution_count": null,
      "outputs": []
    }
  ]
}